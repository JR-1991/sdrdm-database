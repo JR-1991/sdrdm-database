{
 "cells": [
  {
   "cell_type": "code",
   "execution_count": 1,
   "metadata": {},
   "outputs": [],
   "source": [
    "# Install dependencies\n",
    "# !pip install 'ibis-framework[mysql]'"
   ]
  },
  {
   "cell_type": "code",
   "execution_count": 2,
   "metadata": {},
   "outputs": [],
   "source": [
    "from sdRDM import DataModel\n",
    "from sdrdm_database import DBConnector, create_tables"
   ]
  },
  {
   "cell_type": "code",
   "execution_count": 3,
   "metadata": {},
   "outputs": [],
   "source": [
    "# Establish a connection to the database\n",
    "db = DBConnector(\n",
    "    username=\"root\",\n",
    "    password=\"root\",\n",
    "    host=\"localhost\",\n",
    "    db_name=\"db\",\n",
    "    port=3306,\n",
    "    dbtype=\"mysql\",\n",
    ")"
   ]
  },
  {
   "cell_type": "code",
   "execution_count": 4,
   "metadata": {},
   "outputs": [
    {
     "data": {
      "text/plain": [
       "\u001b[96mObjects\u001b[0m EnzymeMLDocument, Creator, Vessel, AbstractSpecies, Protein, Complex, Reactant,\n",
       "        Reaction, ReactionElement, KineticModel, KineticParameter, Measurement, MeasurementData,\n",
       "        Replicate, File\n",
       "\u001b[96mEnums\u001b[0m   SBOTerm, DataTypes\n",
       "\u001b[96mLinks\u001b[0m   sbml"
      ]
     },
     "execution_count": 4,
     "metadata": {},
     "output_type": "execute_result"
    }
   ],
   "source": [
    "# Fetch the EnzymeML data model from the git repository\n",
    "libEnzymeML = DataModel.from_git(\"https://github.com/EnzymeML/enzymeml-specifications.git\")\n",
    "libEnzymeML"
   ]
  },
  {
   "cell_type": "code",
   "execution_count": 5,
   "metadata": {},
   "outputs": [
    {
     "name": "stdout",
     "output_type": "stream",
     "text": [
      "\n",
      "🚀 Creating tables for data model Reactant\n",
      "│\n",
      "├── Table __model_meta__ not existing. Adding to DB!\n",
      "├── Added table model 'Reactant' to __model_meta__ table\n",
      "├── Model 'Reactant' already registered. Skipping.\n",
      "├── Created table 'Reactant'\n",
      "│\n",
      "╰── 🎉 Created all tables for data model Reactant\n",
      "\n"
     ]
    }
   ],
   "source": [
    "# Now create tables for 'Reactants' in the database\n",
    "create_tables(\n",
    "    db_connector=db,\n",
    "    model=libEnzymeML.Reactant,\n",
    "    markdown_path=\"https://github.com/EnzymeML/enzymeml-specifications.git\"\n",
    ")"
   ]
  },
  {
   "cell_type": "code",
   "execution_count": 6,
   "metadata": {},
   "outputs": [
    {
     "data": {
      "text/html": [
       "<pre style=\"white-space:pre;overflow-x:auto;line-height:normal;font-family:Menlo,'DejaVu Sans Mono',consolas,'Courier New',monospace\">┏━━━━━━━━━┳━━━━━━━━━━━┳━━━━━━━━━━━┳━━━━━━━━━━┳━━━━━━━━┳━━━━━━━━┳━━━━━━━━━━━━┳━━━━━━━━┳━━━━━━━━┳━━━━━━━━━━┳━━━━━━━━━━┳━━━━━━━━━━━━━┓\n",
       "┃<span style=\"font-weight: bold\"> name    </span>┃<span style=\"font-weight: bold\"> vessel_id </span>┃<span style=\"font-weight: bold\"> init_conc </span>┃<span style=\"font-weight: bold\"> constant </span>┃<span style=\"font-weight: bold\"> unit   </span>┃<span style=\"font-weight: bold\"> uri    </span>┃<span style=\"font-weight: bold\"> creator_id </span>┃<span style=\"font-weight: bold\"> smiles </span>┃<span style=\"font-weight: bold\"> inchi  </span>┃<span style=\"font-weight: bold\"> chebi_id </span>┃<span style=\"font-weight: bold\"> ontology </span>┃<span style=\"font-weight: bold\"> Reactant_id </span>┃\n",
       "┡━━━━━━━━━╇━━━━━━━━━━━╇━━━━━━━━━━━╇━━━━━━━━━━╇━━━━━━━━╇━━━━━━━━╇━━━━━━━━━━━━╇━━━━━━━━╇━━━━━━━━╇━━━━━━━━━━╇━━━━━━━━━━╇━━━━━━━━━━━━━┩\n",
       "│ <span style=\"color: #7f7f7f; text-decoration-color: #7f7f7f\">!string</span> │ <span style=\"color: #7f7f7f; text-decoration-color: #7f7f7f\">!string</span>   │ <span style=\"color: #7f7f7f; text-decoration-color: #7f7f7f\">float64</span>   │ <span style=\"color: #7f7f7f; text-decoration-color: #7f7f7f\">!boolean</span> │ <span style=\"color: #7f7f7f; text-decoration-color: #7f7f7f\">string</span> │ <span style=\"color: #7f7f7f; text-decoration-color: #7f7f7f\">string</span> │ <span style=\"color: #7f7f7f; text-decoration-color: #7f7f7f\">string</span>     │ <span style=\"color: #7f7f7f; text-decoration-color: #7f7f7f\">string</span> │ <span style=\"color: #7f7f7f; text-decoration-color: #7f7f7f\">string</span> │ <span style=\"color: #7f7f7f; text-decoration-color: #7f7f7f\">string</span>   │ <span style=\"color: #7f7f7f; text-decoration-color: #7f7f7f\">string</span>   │ <span style=\"color: #7f7f7f; text-decoration-color: #7f7f7f\">!string</span>     │\n",
       "└─────────┴───────────┴───────────┴──────────┴────────┴────────┴────────────┴────────┴────────┴──────────┴──────────┴─────────────┘\n",
       "</pre>\n"
      ],
      "text/plain": [
       "┏━━━━━━━━━┳━━━━━━━━━━━┳━━━━━━━━━━━┳━━━━━━━━━━┳━━━━━━━━┳━━━━━━━━┳━━━━━━━━━━━━┳━━━━━━━━┳━━━━━━━━┳━━━━━━━━━━┳━━━━━━━━━━┳━━━━━━━━━━━━━┓\n",
       "┃\u001b[1m \u001b[0m\u001b[1mname\u001b[0m\u001b[1m   \u001b[0m\u001b[1m \u001b[0m┃\u001b[1m \u001b[0m\u001b[1mvessel_id\u001b[0m\u001b[1m \u001b[0m┃\u001b[1m \u001b[0m\u001b[1minit_conc\u001b[0m\u001b[1m \u001b[0m┃\u001b[1m \u001b[0m\u001b[1mconstant\u001b[0m\u001b[1m \u001b[0m┃\u001b[1m \u001b[0m\u001b[1munit\u001b[0m\u001b[1m  \u001b[0m\u001b[1m \u001b[0m┃\u001b[1m \u001b[0m\u001b[1muri\u001b[0m\u001b[1m   \u001b[0m\u001b[1m \u001b[0m┃\u001b[1m \u001b[0m\u001b[1mcreator_id\u001b[0m\u001b[1m \u001b[0m┃\u001b[1m \u001b[0m\u001b[1msmiles\u001b[0m\u001b[1m \u001b[0m┃\u001b[1m \u001b[0m\u001b[1minchi\u001b[0m\u001b[1m \u001b[0m\u001b[1m \u001b[0m┃\u001b[1m \u001b[0m\u001b[1mchebi_id\u001b[0m\u001b[1m \u001b[0m┃\u001b[1m \u001b[0m\u001b[1montology\u001b[0m\u001b[1m \u001b[0m┃\u001b[1m \u001b[0m\u001b[1mReactant_id\u001b[0m\u001b[1m \u001b[0m┃\n",
       "┡━━━━━━━━━╇━━━━━━━━━━━╇━━━━━━━━━━━╇━━━━━━━━━━╇━━━━━━━━╇━━━━━━━━╇━━━━━━━━━━━━╇━━━━━━━━╇━━━━━━━━╇━━━━━━━━━━╇━━━━━━━━━━╇━━━━━━━━━━━━━┩\n",
       "│ \u001b[2m!string\u001b[0m │ \u001b[2m!string\u001b[0m   │ \u001b[2mfloat64\u001b[0m   │ \u001b[2m!boolean\u001b[0m │ \u001b[2mstring\u001b[0m │ \u001b[2mstring\u001b[0m │ \u001b[2mstring\u001b[0m     │ \u001b[2mstring\u001b[0m │ \u001b[2mstring\u001b[0m │ \u001b[2mstring\u001b[0m   │ \u001b[2mstring\u001b[0m   │ \u001b[2m!string\u001b[0m     │\n",
       "└─────────┴───────────┴───────────┴──────────┴────────┴────────┴────────────┴────────┴────────┴──────────┴──────────┴─────────────┘"
      ]
     },
     "execution_count": 6,
     "metadata": {},
     "output_type": "execute_result"
    }
   ],
   "source": [
    "db.connection.table(\"Reactant\")"
   ]
  },
  {
   "cell_type": "code",
   "execution_count": 8,
   "metadata": {},
   "outputs": [
    {
     "name": "stdout",
     "output_type": "stream",
     "text": [
      "Added dataset Reactant (d0767d61-ff2f-44d9-b03c-3127eb6d92f8)\n"
     ]
    }
   ],
   "source": [
    "# Now add an example Reactant to the database\n",
    "reactant = libEnzymeML.Reactant(\n",
    "    id=0,\n",
    "    name=\"Substrate\",\n",
    "    vessel_id=\"Eppendorf Tube\",\n",
    "    constant=True,\n",
    ")\n",
    "\n",
    "db.insert(reactant, verbose=True)"
   ]
  },
  {
   "cell_type": "code",
   "execution_count": 9,
   "metadata": {},
   "outputs": [
    {
     "data": {
      "text/html": [
       "<pre style=\"white-space:pre;overflow-x:auto;line-height:normal;font-family:Menlo,'DejaVu Sans Mono',consolas,'Courier New',monospace\">┏━━━━━━━━━━━┳━━━━━━━━━━━━━━━━┳━━━━━━━━━━━┳━━━━━━━━━━┳━━━━━━━━┳━━━━━━━━┳━━━━━━━━━━━━┳━━━━━━━━┳━━━━━━━━┳━━━━━━━━━━┳━━━━━━━━━━━━━┳━━━━━━━━━━━━━━━━━━━━━━━━━━━━━━━━━━━━━━┓\n",
       "┃<span style=\"font-weight: bold\"> name      </span>┃<span style=\"font-weight: bold\"> vessel_id      </span>┃<span style=\"font-weight: bold\"> init_conc </span>┃<span style=\"font-weight: bold\"> constant </span>┃<span style=\"font-weight: bold\"> unit   </span>┃<span style=\"font-weight: bold\"> uri    </span>┃<span style=\"font-weight: bold\"> creator_id </span>┃<span style=\"font-weight: bold\"> smiles </span>┃<span style=\"font-weight: bold\"> inchi  </span>┃<span style=\"font-weight: bold\"> chebi_id </span>┃<span style=\"font-weight: bold\"> ontology    </span>┃<span style=\"font-weight: bold\"> Reactant_id                          </span>┃\n",
       "┡━━━━━━━━━━━╇━━━━━━━━━━━━━━━━╇━━━━━━━━━━━╇━━━━━━━━━━╇━━━━━━━━╇━━━━━━━━╇━━━━━━━━━━━━╇━━━━━━━━╇━━━━━━━━╇━━━━━━━━━━╇━━━━━━━━━━━━━╇━━━━━━━━━━━━━━━━━━━━━━━━━━━━━━━━━━━━━━┩\n",
       "│ <span style=\"color: #7f7f7f; text-decoration-color: #7f7f7f\">!string</span>   │ <span style=\"color: #7f7f7f; text-decoration-color: #7f7f7f\">!string</span>        │ <span style=\"color: #7f7f7f; text-decoration-color: #7f7f7f\">float64</span>   │ <span style=\"color: #7f7f7f; text-decoration-color: #7f7f7f\">!boolean</span> │ <span style=\"color: #7f7f7f; text-decoration-color: #7f7f7f\">string</span> │ <span style=\"color: #7f7f7f; text-decoration-color: #7f7f7f\">string</span> │ <span style=\"color: #7f7f7f; text-decoration-color: #7f7f7f\">string</span>     │ <span style=\"color: #7f7f7f; text-decoration-color: #7f7f7f\">string</span> │ <span style=\"color: #7f7f7f; text-decoration-color: #7f7f7f\">string</span> │ <span style=\"color: #7f7f7f; text-decoration-color: #7f7f7f\">string</span>   │ <span style=\"color: #7f7f7f; text-decoration-color: #7f7f7f\">string</span>      │ <span style=\"color: #7f7f7f; text-decoration-color: #7f7f7f\">!string</span>                              │\n",
       "├───────────┼────────────────┼───────────┼──────────┼────────┼────────┼────────────┼────────┼────────┼──────────┼─────────────┼──────────────────────────────────────┤\n",
       "│ <span style=\"color: #008000; text-decoration-color: #008000\">Substrate</span> │ <span style=\"color: #008000; text-decoration-color: #008000\">Eppendorf Tube</span> │       <span style=\"color: #008080; text-decoration-color: #008080; font-weight: bold\">nan</span> │ True     │ <span style=\"color: #7f7f7f; text-decoration-color: #7f7f7f\">NULL</span>   │ <span style=\"color: #7f7f7f; text-decoration-color: #7f7f7f\">NULL</span>   │ <span style=\"color: #7f7f7f; text-decoration-color: #7f7f7f\">NULL</span>       │ <span style=\"color: #7f7f7f; text-decoration-color: #7f7f7f\">NULL</span>   │ <span style=\"color: #7f7f7f; text-decoration-color: #7f7f7f\">NULL</span>   │ <span style=\"color: #7f7f7f; text-decoration-color: #7f7f7f\">NULL</span>     │ <span style=\"color: #008000; text-decoration-color: #008000\">SBO:0000247</span> │ <span style=\"color: #008000; text-decoration-color: #008000\">d0767d61-ff2f-44d9-b03c-3127eb6d92f8</span> │\n",
       "└───────────┴────────────────┴───────────┴──────────┴────────┴────────┴────────────┴────────┴────────┴──────────┴─────────────┴──────────────────────────────────────┘\n",
       "</pre>\n"
      ],
      "text/plain": [
       "┏━━━━━━━━━━━┳━━━━━━━━━━━━━━━━┳━━━━━━━━━━━┳━━━━━━━━━━┳━━━━━━━━┳━━━━━━━━┳━━━━━━━━━━━━┳━━━━━━━━┳━━━━━━━━┳━━━━━━━━━━┳━━━━━━━━━━━━━┳━━━━━━━━━━━━━━━━━━━━━━━━━━━━━━━━━━━━━━┓\n",
       "┃\u001b[1m \u001b[0m\u001b[1mname\u001b[0m\u001b[1m     \u001b[0m\u001b[1m \u001b[0m┃\u001b[1m \u001b[0m\u001b[1mvessel_id\u001b[0m\u001b[1m     \u001b[0m\u001b[1m \u001b[0m┃\u001b[1m \u001b[0m\u001b[1minit_conc\u001b[0m\u001b[1m \u001b[0m┃\u001b[1m \u001b[0m\u001b[1mconstant\u001b[0m\u001b[1m \u001b[0m┃\u001b[1m \u001b[0m\u001b[1munit\u001b[0m\u001b[1m  \u001b[0m\u001b[1m \u001b[0m┃\u001b[1m \u001b[0m\u001b[1muri\u001b[0m\u001b[1m   \u001b[0m\u001b[1m \u001b[0m┃\u001b[1m \u001b[0m\u001b[1mcreator_id\u001b[0m\u001b[1m \u001b[0m┃\u001b[1m \u001b[0m\u001b[1msmiles\u001b[0m\u001b[1m \u001b[0m┃\u001b[1m \u001b[0m\u001b[1minchi\u001b[0m\u001b[1m \u001b[0m\u001b[1m \u001b[0m┃\u001b[1m \u001b[0m\u001b[1mchebi_id\u001b[0m\u001b[1m \u001b[0m┃\u001b[1m \u001b[0m\u001b[1montology\u001b[0m\u001b[1m   \u001b[0m\u001b[1m \u001b[0m┃\u001b[1m \u001b[0m\u001b[1mReactant_id\u001b[0m\u001b[1m                         \u001b[0m\u001b[1m \u001b[0m┃\n",
       "┡━━━━━━━━━━━╇━━━━━━━━━━━━━━━━╇━━━━━━━━━━━╇━━━━━━━━━━╇━━━━━━━━╇━━━━━━━━╇━━━━━━━━━━━━╇━━━━━━━━╇━━━━━━━━╇━━━━━━━━━━╇━━━━━━━━━━━━━╇━━━━━━━━━━━━━━━━━━━━━━━━━━━━━━━━━━━━━━┩\n",
       "│ \u001b[2m!string\u001b[0m   │ \u001b[2m!string\u001b[0m        │ \u001b[2mfloat64\u001b[0m   │ \u001b[2m!boolean\u001b[0m │ \u001b[2mstring\u001b[0m │ \u001b[2mstring\u001b[0m │ \u001b[2mstring\u001b[0m     │ \u001b[2mstring\u001b[0m │ \u001b[2mstring\u001b[0m │ \u001b[2mstring\u001b[0m   │ \u001b[2mstring\u001b[0m      │ \u001b[2m!string\u001b[0m                              │\n",
       "├───────────┼────────────────┼───────────┼──────────┼────────┼────────┼────────────┼────────┼────────┼──────────┼─────────────┼──────────────────────────────────────┤\n",
       "│ \u001b[32mSubstrate\u001b[0m │ \u001b[32mEppendorf Tube\u001b[0m │       \u001b[1;36mnan\u001b[0m │ True     │ \u001b[2mNULL\u001b[0m   │ \u001b[2mNULL\u001b[0m   │ \u001b[2mNULL\u001b[0m       │ \u001b[2mNULL\u001b[0m   │ \u001b[2mNULL\u001b[0m   │ \u001b[2mNULL\u001b[0m     │ \u001b[32mSBO:0000247\u001b[0m │ \u001b[32md0767d61-ff2f-44d9-b03c-3127eb6d92f8\u001b[0m │\n",
       "└───────────┴────────────────┴───────────┴──────────┴────────┴────────┴────────────┴────────┴────────┴──────────┴─────────────┴──────────────────────────────────────┘"
      ]
     },
     "execution_count": 9,
     "metadata": {},
     "output_type": "execute_result"
    }
   ],
   "source": [
    "db.connection.table(\"Reactant\")"
   ]
  }
 ],
 "metadata": {
  "kernelspec": {
   "display_name": "sdrdm-db",
   "language": "python",
   "name": "python3"
  },
  "language_info": {
   "codemirror_mode": {
    "name": "ipython",
    "version": 3
   },
   "file_extension": ".py",
   "mimetype": "text/x-python",
   "name": "python",
   "nbconvert_exporter": "python",
   "pygments_lexer": "ipython3",
   "version": "3.11.5"
  }
 },
 "nbformat": 4,
 "nbformat_minor": 2
}
