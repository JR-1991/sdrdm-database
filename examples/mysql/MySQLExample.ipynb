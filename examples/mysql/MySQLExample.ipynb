{
 "cells": [
  {
   "cell_type": "code",
   "execution_count": 1,
   "metadata": {},
   "outputs": [],
   "source": [
    "# Install dependencies\n",
    "# !pip install 'ibis-framework[mysql]'"
   ]
  },
  {
   "cell_type": "code",
   "execution_count": 2,
   "metadata": {},
   "outputs": [],
   "source": [
    "from sdRDM import DataModel\n",
    "from sdrdm_database import DBConnector"
   ]
  },
  {
   "cell_type": "code",
   "execution_count": 3,
   "metadata": {},
   "outputs": [
    {
     "name": "stdout",
     "output_type": "stream",
     "text": [
      "🎉 Connected                                                                                        \n"
     ]
    }
   ],
   "source": [
    "# Establish a connection to the database\n",
    "db = DBConnector(\n",
    "    username=\"root\",\n",
    "    password=\"root\",\n",
    "    host=\"localhost\",\n",
    "    db_name=\"db\",\n",
    "    port=3306,\n",
    "    dbtype=\"mysql\",\n",
    ")"
   ]
  },
  {
   "cell_type": "code",
   "execution_count": 4,
   "metadata": {},
   "outputs": [
    {
     "data": {
      "text/plain": [
       "\u001b[96mObjects\u001b[0m EnzymeMLDocument, Creator, Vessel, AbstractSpecies, Protein, Complex, Reactant,\n",
       "        Reaction, ReactionElement, KineticModel, KineticParameter, Measurement, MeasurementData,\n",
       "        Replicate, File\n",
       "\u001b[96mEnums\u001b[0m   SBOTerm, DataTypes\n",
       "\u001b[96mLinks\u001b[0m   sbml"
      ]
     },
     "execution_count": 4,
     "metadata": {},
     "output_type": "execute_result"
    }
   ],
   "source": [
    "# Fetch the EnzymeML data model from the git repository\n",
    "libEnzymeML = DataModel.from_git(\"https://github.com/EnzymeML/enzymeml-specifications.git\")\n",
    "libEnzymeML"
   ]
  },
  {
   "cell_type": "code",
   "execution_count": 5,
   "metadata": {},
   "outputs": [
    {
     "name": "stdout",
     "output_type": "stream",
     "text": [
      "\n",
      "🚀 Creating tables for data model https://github.com/EnzymeML/enzymeml-specifications.git\n",
      "│\n",
      "├── Fetching markdown model from GitHub\n",
      "├── Model 'DATA_MODEL' already registered. Skipping.\n",
      "├── Extracted relations from data model https://github.com/EnzymeML/enzymeml-specifications.git\n",
      "{\n",
      "  \"EnzymeMLDocument_creators_Creator\": {\n",
      "    \"EnzymeMLDocument_id\": {\n",
      "      \"type\": \"VARCHAR(100)\",\n",
      "      \"references\": \"EnzymeMLDocument(id)\"\n",
      "    },\n",
      "    \"Creator_id\": {\n",
      "      \"type\": \"VARCHAR(100)\",\n",
      "      \"references\": \"Creator(id)\"\n",
      "    }\n",
      "  },\n",
      "  \"EnzymeMLDocument_vessels_Vessel\": {\n",
      "    \"EnzymeMLDocument_id\": {\n",
      "      \"type\": \"VARCHAR(100)\",\n",
      "      \"references\": \"EnzymeMLDocument(id)\"\n",
      "    },\n",
      "    \"Vessel_id\": {\n",
      "      \"type\": \"VARCHAR(100)\",\n",
      "      \"references\": \"Vessel(id)\"\n",
      "    }\n",
      "  },\n",
      "  \"EnzymeMLDocument_proteins_Protein\": {\n",
      "    \"EnzymeMLDocument_id\": {\n",
      "      \"type\": \"VARCHAR(100)\",\n",
      "      \"references\": \"EnzymeMLDocument(id)\"\n",
      "    },\n",
      "    \"Protein_id\": {\n",
      "      \"type\": \"VARCHAR(100)\",\n",
      "      \"references\": \"Protein(id)\"\n",
      "    }\n",
      "  },\n",
      "  \"EnzymeMLDocument_complexes_Complex\": {\n",
      "    \"EnzymeMLDocument_id\": {\n",
      "      \"type\": \"VARCHAR(100)\",\n",
      "      \"references\": \"EnzymeMLDocument(id)\"\n",
      "    },\n",
      "    \"Complex_id\": {\n",
      "      \"type\": \"VARCHAR(100)\",\n",
      "      \"references\": \"Complex(id)\"\n",
      "    }\n",
      "  },\n",
      "  \"EnzymeMLDocument_reactants_Reactant\": {\n",
      "    \"EnzymeMLDocument_id\": {\n",
      "      \"type\": \"VARCHAR(100)\",\n",
      "      \"references\": \"EnzymeMLDocument(id)\"\n",
      "    },\n",
      "    \"Reactant_id\": {\n",
      "      \"type\": \"VARCHAR(100)\",\n",
      "      \"references\": \"Reactant(id)\"\n",
      "    }\n",
      "  },\n",
      "  \"EnzymeMLDocument_reactions_Reaction\": {\n",
      "    \"EnzymeMLDocument_id\": {\n",
      "      \"type\": \"VARCHAR(100)\",\n",
      "      \"references\": \"EnzymeMLDocument(id)\"\n",
      "    },\n",
      "    \"Reaction_id\": {\n",
      "      \"type\": \"VARCHAR(100)\",\n",
      "      \"references\": \"Reaction(id)\"\n",
      "    }\n",
      "  },\n",
      "  \"EnzymeMLDocument_measurements_Measurement\": {\n",
      "    \"EnzymeMLDocument_id\": {\n",
      "      \"type\": \"VARCHAR(100)\",\n",
      "      \"references\": \"EnzymeMLDocument(id)\"\n",
      "    },\n",
      "    \"Measurement_id\": {\n",
      "      \"type\": \"VARCHAR(100)\",\n",
      "      \"references\": \"Measurement(id)\"\n",
      "    }\n",
      "  },\n",
      "  \"EnzymeMLDocument_files_File\": {\n",
      "    \"EnzymeMLDocument_id\": {\n",
      "      \"type\": \"VARCHAR(100)\",\n",
      "      \"references\": \"EnzymeMLDocument(id)\"\n",
      "    },\n",
      "    \"File_id\": {\n",
      "      \"type\": \"VARCHAR(100)\",\n",
      "      \"references\": \"File(id)\"\n",
      "    }\n",
      "  },\n",
      "  \"EnzymeMLDocument_global_parameters_KineticParameter\": {\n",
      "    \"EnzymeMLDocument_id\": {\n",
      "      \"type\": \"VARCHAR(100)\",\n",
      "      \"references\": \"EnzymeMLDocument(id)\"\n",
      "    },\n",
      "    \"KineticParameter_id\": {\n",
      "      \"type\": \"VARCHAR(100)\",\n",
      "      \"references\": \"KineticParameter(id)\"\n",
      "    }\n",
      "  },\n",
      "  \"Reaction_model_KineticModel\": {\n",
      "    \"Reaction_id\": {\n",
      "      \"type\": \"VARCHAR(100)\",\n",
      "      \"references\": \"Reaction(id)\"\n",
      "    },\n",
      "    \"KineticModel_id\": {\n",
      "      \"type\": \"VARCHAR(100)\",\n",
      "      \"references\": \"KineticModel(id)\"\n",
      "    }\n",
      "  },\n",
      "  \"Reaction_educts_ReactionElement\": {\n",
      "    \"Reaction_id\": {\n",
      "      \"type\": \"VARCHAR(100)\",\n",
      "      \"references\": \"Reaction(id)\"\n",
      "    },\n",
      "    \"ReactionElement_id\": {\n",
      "      \"type\": \"VARCHAR(100)\",\n",
      "      \"references\": \"ReactionElement(id)\"\n",
      "    }\n",
      "  },\n",
      "  \"Reaction_products_ReactionElement\": {\n",
      "    \"Reaction_id\": {\n",
      "      \"type\": \"VARCHAR(100)\",\n",
      "      \"references\": \"Reaction(id)\"\n",
      "    },\n",
      "    \"ReactionElement_id\": {\n",
      "      \"type\": \"VARCHAR(100)\",\n",
      "      \"references\": \"ReactionElement(id)\"\n",
      "    }\n",
      "  },\n",
      "  \"Reaction_modifiers_ReactionElement\": {\n",
      "    \"Reaction_id\": {\n",
      "      \"type\": \"VARCHAR(100)\",\n",
      "      \"references\": \"Reaction(id)\"\n",
      "    },\n",
      "    \"ReactionElement_id\": {\n",
      "      \"type\": \"VARCHAR(100)\",\n",
      "      \"references\": \"ReactionElement(id)\"\n",
      "    }\n",
      "  },\n",
      "  \"KineticModel_parameters_KineticParameter\": {\n",
      "    \"KineticModel_id\": {\n",
      "      \"type\": \"VARCHAR(100)\",\n",
      "      \"references\": \"KineticModel(id)\"\n",
      "    },\n",
      "    \"KineticParameter_id\": {\n",
      "      \"type\": \"VARCHAR(100)\",\n",
      "      \"references\": \"KineticParameter(id)\"\n",
      "    }\n",
      "  },\n",
      "  \"Measurement_species_MeasurementData\": {\n",
      "    \"Measurement_id\": {\n",
      "      \"type\": \"VARCHAR(100)\",\n",
      "      \"references\": \"Measurement(id)\"\n",
      "    },\n",
      "    \"MeasurementData_id\": {\n",
      "      \"type\": \"VARCHAR(100)\",\n",
      "      \"references\": \"MeasurementData(id)\"\n",
      "    }\n",
      "  },\n",
      "  \"MeasurementData_replicates_Replicate\": {\n",
      "    \"MeasurementData_id\": {\n",
      "      \"type\": \"VARCHAR(100)\",\n",
      "      \"references\": \"MeasurementData(id)\"\n",
      "    },\n",
      "    \"Replicate_id\": {\n",
      "      \"type\": \"VARCHAR(100)\",\n",
      "      \"references\": \"Replicate(id)\"\n",
      "    }\n",
      "  }\n",
      "}\n",
      "\n",
      "├── Model 'EnzymeMLDocument' already registered. Skipping.\n",
      "├── Model 'Creator' already registered. Skipping.\n",
      "├── Model 'Vessel' already registered. Skipping.\n",
      "├── Model 'AbstractSpecies' already registered. Skipping.\n",
      "├── Model 'Protein' already registered. Skipping.\n",
      "├── Model 'Complex' already registered. Skipping.\n",
      "├── Model 'Reactant' already registered. Skipping.\n",
      "├── Model 'Reaction' already registered. Skipping.\n",
      "├── Model 'ReactionElement' already registered. Skipping.\n",
      "├── Model 'KineticModel' already registered. Skipping.\n",
      "├── Model 'KineticParameter' already registered. Skipping.\n",
      "├── Model 'Measurement' already registered. Skipping.\n",
      "├── Model 'MeasurementData' already registered. Skipping.\n",
      "├── Model 'Replicate' already registered. Skipping.\n",
      "├── Model 'File' already registered. Skipping.\n",
      "├── Table 'EnzymeMLDocument'. Already exists in database. Skipping.\n",
      "├── Table 'Creator'. Already exists in database. Skipping.\n",
      "├── Table 'Vessel'. Already exists in database. Skipping.\n",
      "├── Table 'AbstractSpecies'. Already exists in database. Skipping.\n",
      "├── Table 'Protein'. Already exists in database. Skipping.\n",
      "├── Table 'Complex'. Already exists in database. Skipping.\n",
      "├── Table 'Reactant'. Already exists in database. Skipping.\n",
      "├── Table 'Reaction'. Already exists in database. Skipping.\n",
      "├── Table 'ReactionElement'. Already exists in database. Skipping.\n",
      "├── Table 'KineticModel'. Already exists in database. Skipping.\n",
      "├── Table 'KineticParameter'. Already exists in database. Skipping.\n",
      "├── Table 'Measurement'. Already exists in database. Skipping.\n",
      "├── Table 'MeasurementData'. Already exists in database. Skipping.\n",
      "├── Table 'Replicate'. Already exists in database. Skipping.\n",
      "├── Table 'File'. Already exists in database. Skipping.\n",
      "│\n",
      "╰── 🎉 Created all tables for data model https://github.com/EnzymeML/enzymeml-specifications.git\n",
      "\n"
     ]
    }
   ],
   "source": [
    "# Now create tables for 'Reactants' in the database\n",
    "db.create_tables(markdown_path=\"https://github.com/EnzymeML/enzymeml-specifications.git\")"
   ]
  },
  {
   "cell_type": "code",
   "execution_count": 6,
   "metadata": {},
   "outputs": [
    {
     "data": {
      "text/html": [
       "<pre style=\"white-space:pre;overflow-x:auto;line-height:normal;font-family:Menlo,'DejaVu Sans Mono',consolas,'Courier New',monospace\">┏━━━━━━━━━┳━━━━━━━━━━━┳━━━━━━━━━━━┳━━━━━━━━━━┳━━━━━━━━┳━━━━━━━━┳━━━━━━━━━━━━┳━━━━━━━━┳━━━━━━━━┳━━━━━━━━━━┳━━━━━━━━━━┳━━━━━━━━━┓\n",
       "┃<span style=\"font-weight: bold\"> name    </span>┃<span style=\"font-weight: bold\"> vessel_id </span>┃<span style=\"font-weight: bold\"> init_conc </span>┃<span style=\"font-weight: bold\"> constant </span>┃<span style=\"font-weight: bold\"> unit   </span>┃<span style=\"font-weight: bold\"> uri    </span>┃<span style=\"font-weight: bold\"> creator_id </span>┃<span style=\"font-weight: bold\"> smiles </span>┃<span style=\"font-weight: bold\"> inchi  </span>┃<span style=\"font-weight: bold\"> chebi_id </span>┃<span style=\"font-weight: bold\"> ontology </span>┃<span style=\"font-weight: bold\"> id      </span>┃\n",
       "┡━━━━━━━━━╇━━━━━━━━━━━╇━━━━━━━━━━━╇━━━━━━━━━━╇━━━━━━━━╇━━━━━━━━╇━━━━━━━━━━━━╇━━━━━━━━╇━━━━━━━━╇━━━━━━━━━━╇━━━━━━━━━━╇━━━━━━━━━┩\n",
       "│ <span style=\"color: #7f7f7f; text-decoration-color: #7f7f7f\">!string</span> │ <span style=\"color: #7f7f7f; text-decoration-color: #7f7f7f\">!string</span>   │ <span style=\"color: #7f7f7f; text-decoration-color: #7f7f7f\">float64</span>   │ <span style=\"color: #7f7f7f; text-decoration-color: #7f7f7f\">!int8</span>    │ <span style=\"color: #7f7f7f; text-decoration-color: #7f7f7f\">string</span> │ <span style=\"color: #7f7f7f; text-decoration-color: #7f7f7f\">string</span> │ <span style=\"color: #7f7f7f; text-decoration-color: #7f7f7f\">string</span>     │ <span style=\"color: #7f7f7f; text-decoration-color: #7f7f7f\">string</span> │ <span style=\"color: #7f7f7f; text-decoration-color: #7f7f7f\">string</span> │ <span style=\"color: #7f7f7f; text-decoration-color: #7f7f7f\">string</span>   │ <span style=\"color: #7f7f7f; text-decoration-color: #7f7f7f\">string</span>   │ <span style=\"color: #7f7f7f; text-decoration-color: #7f7f7f\">!string</span> │\n",
       "└─────────┴───────────┴───────────┴──────────┴────────┴────────┴────────────┴────────┴────────┴──────────┴──────────┴─────────┘\n",
       "</pre>\n"
      ],
      "text/plain": [
       "┏━━━━━━━━━┳━━━━━━━━━━━┳━━━━━━━━━━━┳━━━━━━━━━━┳━━━━━━━━┳━━━━━━━━┳━━━━━━━━━━━━┳━━━━━━━━┳━━━━━━━━┳━━━━━━━━━━┳━━━━━━━━━━┳━━━━━━━━━┓\n",
       "┃\u001b[1m \u001b[0m\u001b[1mname\u001b[0m\u001b[1m   \u001b[0m\u001b[1m \u001b[0m┃\u001b[1m \u001b[0m\u001b[1mvessel_id\u001b[0m\u001b[1m \u001b[0m┃\u001b[1m \u001b[0m\u001b[1minit_conc\u001b[0m\u001b[1m \u001b[0m┃\u001b[1m \u001b[0m\u001b[1mconstant\u001b[0m\u001b[1m \u001b[0m┃\u001b[1m \u001b[0m\u001b[1munit\u001b[0m\u001b[1m  \u001b[0m\u001b[1m \u001b[0m┃\u001b[1m \u001b[0m\u001b[1muri\u001b[0m\u001b[1m   \u001b[0m\u001b[1m \u001b[0m┃\u001b[1m \u001b[0m\u001b[1mcreator_id\u001b[0m\u001b[1m \u001b[0m┃\u001b[1m \u001b[0m\u001b[1msmiles\u001b[0m\u001b[1m \u001b[0m┃\u001b[1m \u001b[0m\u001b[1minchi\u001b[0m\u001b[1m \u001b[0m\u001b[1m \u001b[0m┃\u001b[1m \u001b[0m\u001b[1mchebi_id\u001b[0m\u001b[1m \u001b[0m┃\u001b[1m \u001b[0m\u001b[1montology\u001b[0m\u001b[1m \u001b[0m┃\u001b[1m \u001b[0m\u001b[1mid\u001b[0m\u001b[1m     \u001b[0m\u001b[1m \u001b[0m┃\n",
       "┡━━━━━━━━━╇━━━━━━━━━━━╇━━━━━━━━━━━╇━━━━━━━━━━╇━━━━━━━━╇━━━━━━━━╇━━━━━━━━━━━━╇━━━━━━━━╇━━━━━━━━╇━━━━━━━━━━╇━━━━━━━━━━╇━━━━━━━━━┩\n",
       "│ \u001b[2m!string\u001b[0m │ \u001b[2m!string\u001b[0m   │ \u001b[2mfloat64\u001b[0m   │ \u001b[2m!int8\u001b[0m    │ \u001b[2mstring\u001b[0m │ \u001b[2mstring\u001b[0m │ \u001b[2mstring\u001b[0m     │ \u001b[2mstring\u001b[0m │ \u001b[2mstring\u001b[0m │ \u001b[2mstring\u001b[0m   │ \u001b[2mstring\u001b[0m   │ \u001b[2m!string\u001b[0m │\n",
       "└─────────┴───────────┴───────────┴──────────┴────────┴────────┴────────────┴────────┴────────┴──────────┴──────────┴─────────┘"
      ]
     },
     "execution_count": 6,
     "metadata": {},
     "output_type": "execute_result"
    }
   ],
   "source": [
    "db.connection.table(\"Reactant\")"
   ]
  },
  {
   "cell_type": "code",
   "execution_count": 7,
   "metadata": {},
   "outputs": [
    {
     "name": "stdout",
     "output_type": "stream",
     "text": [
      "Added dataset Reactant (e23988ca-dc0c-4662-9228-fe284608fb00)\n"
     ]
    }
   ],
   "source": [
    "# Now add an example Reactant to the database\n",
    "reactant = libEnzymeML.Reactant(\n",
    "    id=0,\n",
    "    name=\"Substrate\",\n",
    "    vessel_id=\"Eppendorf Tube\",\n",
    "    constant=True,\n",
    ")\n",
    "\n",
    "db.insert(reactant, verbose=True)"
   ]
  },
  {
   "cell_type": "code",
   "execution_count": 8,
   "metadata": {},
   "outputs": [
    {
     "data": {
      "text/html": [
       "<pre style=\"white-space:pre;overflow-x:auto;line-height:normal;font-family:Menlo,'DejaVu Sans Mono',consolas,'Courier New',monospace\">┏━━━━━━━━━━━┳━━━━━━━━━━━━━━━━┳━━━━━━━━━━━┳━━━━━━━━━━┳━━━━━━━━┳━━━━━━━━┳━━━━━━━━━━━━┳━━━━━━━━┳━━━━━━━━┳━━━━━━━━━━┳━━━━━━━━━━━━━┳━━━━━━━━━┓\n",
       "┃<span style=\"font-weight: bold\"> name      </span>┃<span style=\"font-weight: bold\"> vessel_id      </span>┃<span style=\"font-weight: bold\"> init_conc </span>┃<span style=\"font-weight: bold\"> constant </span>┃<span style=\"font-weight: bold\"> unit   </span>┃<span style=\"font-weight: bold\"> uri    </span>┃<span style=\"font-weight: bold\"> creator_id </span>┃<span style=\"font-weight: bold\"> smiles </span>┃<span style=\"font-weight: bold\"> inchi  </span>┃<span style=\"font-weight: bold\"> chebi_id </span>┃<span style=\"font-weight: bold\"> ontology    </span>┃<span style=\"font-weight: bold\"> id      </span>┃\n",
       "┡━━━━━━━━━━━╇━━━━━━━━━━━━━━━━╇━━━━━━━━━━━╇━━━━━━━━━━╇━━━━━━━━╇━━━━━━━━╇━━━━━━━━━━━━╇━━━━━━━━╇━━━━━━━━╇━━━━━━━━━━╇━━━━━━━━━━━━━╇━━━━━━━━━┩\n",
       "│ <span style=\"color: #7f7f7f; text-decoration-color: #7f7f7f\">!string</span>   │ <span style=\"color: #7f7f7f; text-decoration-color: #7f7f7f\">!string</span>        │ <span style=\"color: #7f7f7f; text-decoration-color: #7f7f7f\">float64</span>   │ <span style=\"color: #7f7f7f; text-decoration-color: #7f7f7f\">!int8</span>    │ <span style=\"color: #7f7f7f; text-decoration-color: #7f7f7f\">string</span> │ <span style=\"color: #7f7f7f; text-decoration-color: #7f7f7f\">string</span> │ <span style=\"color: #7f7f7f; text-decoration-color: #7f7f7f\">string</span>     │ <span style=\"color: #7f7f7f; text-decoration-color: #7f7f7f\">string</span> │ <span style=\"color: #7f7f7f; text-decoration-color: #7f7f7f\">string</span> │ <span style=\"color: #7f7f7f; text-decoration-color: #7f7f7f\">string</span>   │ <span style=\"color: #7f7f7f; text-decoration-color: #7f7f7f\">string</span>      │ <span style=\"color: #7f7f7f; text-decoration-color: #7f7f7f\">!string</span> │\n",
       "├───────────┼────────────────┼───────────┼──────────┼────────┼────────┼────────────┼────────┼────────┼──────────┼─────────────┼─────────┤\n",
       "│ <span style=\"color: #008000; text-decoration-color: #008000\">Substrate</span> │ <span style=\"color: #008000; text-decoration-color: #008000\">Eppendorf Tube</span> │      <span style=\"color: #7f7f7f; text-decoration-color: #7f7f7f\">NULL</span> │        <span style=\"color: #008080; text-decoration-color: #008080; font-weight: bold\">1</span> │ <span style=\"color: #7f7f7f; text-decoration-color: #7f7f7f\">NULL</span>   │ <span style=\"color: #7f7f7f; text-decoration-color: #7f7f7f\">NULL</span>   │ <span style=\"color: #7f7f7f; text-decoration-color: #7f7f7f\">NULL</span>       │ <span style=\"color: #7f7f7f; text-decoration-color: #7f7f7f\">NULL</span>   │ <span style=\"color: #7f7f7f; text-decoration-color: #7f7f7f\">NULL</span>   │ <span style=\"color: #7f7f7f; text-decoration-color: #7f7f7f\">NULL</span>     │ <span style=\"color: #008000; text-decoration-color: #008000\">SBO:0000247</span> │ <span style=\"color: #008000; text-decoration-color: #008000\">0      </span> │\n",
       "└───────────┴────────────────┴───────────┴──────────┴────────┴────────┴────────────┴────────┴────────┴──────────┴─────────────┴─────────┘\n",
       "</pre>\n"
      ],
      "text/plain": [
       "┏━━━━━━━━━━━┳━━━━━━━━━━━━━━━━┳━━━━━━━━━━━┳━━━━━━━━━━┳━━━━━━━━┳━━━━━━━━┳━━━━━━━━━━━━┳━━━━━━━━┳━━━━━━━━┳━━━━━━━━━━┳━━━━━━━━━━━━━┳━━━━━━━━━┓\n",
       "┃\u001b[1m \u001b[0m\u001b[1mname\u001b[0m\u001b[1m     \u001b[0m\u001b[1m \u001b[0m┃\u001b[1m \u001b[0m\u001b[1mvessel_id\u001b[0m\u001b[1m     \u001b[0m\u001b[1m \u001b[0m┃\u001b[1m \u001b[0m\u001b[1minit_conc\u001b[0m\u001b[1m \u001b[0m┃\u001b[1m \u001b[0m\u001b[1mconstant\u001b[0m\u001b[1m \u001b[0m┃\u001b[1m \u001b[0m\u001b[1munit\u001b[0m\u001b[1m  \u001b[0m\u001b[1m \u001b[0m┃\u001b[1m \u001b[0m\u001b[1muri\u001b[0m\u001b[1m   \u001b[0m\u001b[1m \u001b[0m┃\u001b[1m \u001b[0m\u001b[1mcreator_id\u001b[0m\u001b[1m \u001b[0m┃\u001b[1m \u001b[0m\u001b[1msmiles\u001b[0m\u001b[1m \u001b[0m┃\u001b[1m \u001b[0m\u001b[1minchi\u001b[0m\u001b[1m \u001b[0m\u001b[1m \u001b[0m┃\u001b[1m \u001b[0m\u001b[1mchebi_id\u001b[0m\u001b[1m \u001b[0m┃\u001b[1m \u001b[0m\u001b[1montology\u001b[0m\u001b[1m   \u001b[0m\u001b[1m \u001b[0m┃\u001b[1m \u001b[0m\u001b[1mid\u001b[0m\u001b[1m     \u001b[0m\u001b[1m \u001b[0m┃\n",
       "┡━━━━━━━━━━━╇━━━━━━━━━━━━━━━━╇━━━━━━━━━━━╇━━━━━━━━━━╇━━━━━━━━╇━━━━━━━━╇━━━━━━━━━━━━╇━━━━━━━━╇━━━━━━━━╇━━━━━━━━━━╇━━━━━━━━━━━━━╇━━━━━━━━━┩\n",
       "│ \u001b[2m!string\u001b[0m   │ \u001b[2m!string\u001b[0m        │ \u001b[2mfloat64\u001b[0m   │ \u001b[2m!int8\u001b[0m    │ \u001b[2mstring\u001b[0m │ \u001b[2mstring\u001b[0m │ \u001b[2mstring\u001b[0m     │ \u001b[2mstring\u001b[0m │ \u001b[2mstring\u001b[0m │ \u001b[2mstring\u001b[0m   │ \u001b[2mstring\u001b[0m      │ \u001b[2m!string\u001b[0m │\n",
       "├───────────┼────────────────┼───────────┼──────────┼────────┼────────┼────────────┼────────┼────────┼──────────┼─────────────┼─────────┤\n",
       "│ \u001b[32mSubstrate\u001b[0m │ \u001b[32mEppendorf Tube\u001b[0m │      \u001b[2mNULL\u001b[0m │        \u001b[1;36m1\u001b[0m │ \u001b[2mNULL\u001b[0m   │ \u001b[2mNULL\u001b[0m   │ \u001b[2mNULL\u001b[0m       │ \u001b[2mNULL\u001b[0m   │ \u001b[2mNULL\u001b[0m   │ \u001b[2mNULL\u001b[0m     │ \u001b[32mSBO:0000247\u001b[0m │ \u001b[32m0      \u001b[0m │\n",
       "└───────────┴────────────────┴───────────┴──────────┴────────┴────────┴────────────┴────────┴────────┴──────────┴─────────────┴─────────┘"
      ]
     },
     "execution_count": 8,
     "metadata": {},
     "output_type": "execute_result"
    }
   ],
   "source": [
    "db.connection.table(\"Reactant\")"
   ]
  }
 ],
 "metadata": {
  "kernelspec": {
   "display_name": "sdrdm-db",
   "language": "python",
   "name": "python3"
  },
  "language_info": {
   "codemirror_mode": {
    "name": "ipython",
    "version": 3
   },
   "file_extension": ".py",
   "mimetype": "text/x-python",
   "name": "python",
   "nbconvert_exporter": "python",
   "pygments_lexer": "ipython3",
   "version": "3.11.5"
  }
 },
 "nbformat": 4,
 "nbformat_minor": 2
}
