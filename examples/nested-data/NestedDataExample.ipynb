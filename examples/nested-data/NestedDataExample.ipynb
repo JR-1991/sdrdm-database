{
 "cells": [
  {
   "cell_type": "code",
   "execution_count": 1,
   "metadata": {},
   "outputs": [],
   "source": [
    "from sdRDM import DataModel\n",
    "from sdrdm_database import DBConnector, create_tables"
   ]
  },
  {
   "cell_type": "code",
   "execution_count": 2,
   "metadata": {},
   "outputs": [],
   "source": [
    "# Establish a connection to the database\n",
    "db = DBConnector(\n",
    "    username=\"root\",\n",
    "    password=\"root\",\n",
    "    host=\"localhost\",\n",
    "    db_name=\"db\",\n",
    "    port=3306,\n",
    "    dbtype=\"mysql\",\n",
    ")"
   ]
  },
  {
   "cell_type": "code",
   "execution_count": 3,
   "metadata": {},
   "outputs": [
    {
     "name": "stdout",
     "output_type": "stream",
     "text": [
      "Root\n",
      "├── id\n",
      "├── value\n",
      "└── nested\n",
      "    └── 0\n",
      "        ├── id\n",
      "        └── another_value\n"
     ]
    },
    {
     "data": {
      "text/plain": [
       "ClassNode(/Root, class_name=None, constants={}, id=None, module=None, outer_type=None)"
      ]
     },
     "execution_count": 3,
     "metadata": {},
     "output_type": "execute_result"
    }
   ],
   "source": [
    "# Fetch the sdRDM schema\n",
    "lib = DataModel.from_markdown(\"./model.md\")\n",
    "lib.Root.meta_tree()"
   ]
  },
  {
   "cell_type": "code",
   "execution_count": 12,
   "metadata": {},
   "outputs": [],
   "source": [
    "# Create tables for the sdRDM schema\n",
    "create_tables(db_connector=db, model=lib.Root)"
   ]
  },
  {
   "cell_type": "code",
   "execution_count": 13,
   "metadata": {},
   "outputs": [
    {
     "data": {
      "text/html": [
       "<pre style=\"white-space:pre;overflow-x:auto;line-height:normal;font-family:Menlo,'DejaVu Sans Mono',consolas,'Courier New',monospace\"></pre>\n"
      ],
      "text/plain": []
     },
     "metadata": {},
     "output_type": "display_data"
    },
    {
     "name": "stdout",
     "output_type": "stream",
     "text": [
      "┏━━━━━━━━━┳━━━━━━━━━┓\n",
      "┃\u001b[1m \u001b[0m\u001b[1mvalue\u001b[0m\u001b[1m  \u001b[0m\u001b[1m \u001b[0m┃\u001b[1m \u001b[0m\u001b[1mid\u001b[0m\u001b[1m     \u001b[0m\u001b[1m \u001b[0m┃\n",
      "┡━━━━━━━━━╇━━━━━━━━━┩\n",
      "│ \u001b[2mfloat64\u001b[0m │ \u001b[2m!string\u001b[0m │\n",
      "└─────────┴─────────┘\n",
      "\n"
     ]
    },
    {
     "data": {
      "text/html": [
       "<pre style=\"white-space:pre;overflow-x:auto;line-height:normal;font-family:Menlo,'DejaVu Sans Mono',consolas,'Courier New',monospace\"></pre>\n"
      ],
      "text/plain": []
     },
     "metadata": {},
     "output_type": "display_data"
    },
    {
     "name": "stdout",
     "output_type": "stream",
     "text": [
      "┏━━━━━━━━━━━━━━━┳━━━━━━━━━┳━━━━━━━━┓\n",
      "┃\u001b[1m \u001b[0m\u001b[1manother_value\u001b[0m\u001b[1m \u001b[0m┃\u001b[1m \u001b[0m\u001b[1mid\u001b[0m\u001b[1m     \u001b[0m\u001b[1m \u001b[0m┃\u001b[1m \u001b[0m\u001b[1mRoot\u001b[0m\u001b[1m  \u001b[0m\u001b[1m \u001b[0m┃\n",
      "┡━━━━━━━━━━━━━━━╇━━━━━━━━━╇━━━━━━━━┩\n",
      "│ \u001b[2mstring\u001b[0m        │ \u001b[2m!string\u001b[0m │ \u001b[2mstring\u001b[0m │\n",
      "└───────────────┴─────────┴────────┘\n",
      "\n"
     ]
    }
   ],
   "source": [
    "# We are now seeking a way to insert an instance of \n",
    "# the sdRDM schema into the database.\n",
    "print(db.connection.table(\"Root\"))\n",
    "print(db.connection.table(\"nested\"))"
   ]
  },
  {
   "cell_type": "code",
   "execution_count": 14,
   "metadata": {},
   "outputs": [
    {
     "name": "stdout",
     "output_type": "stream",
     "text": [
      "\u001b[4mRoot\u001b[0m\n",
      "├── \u001b[94mid\u001b[0m = root0\n",
      "├── \u001b[94mvalue\u001b[0m = 100.0\n",
      "└── \u001b[94mnested\u001b[0m\n",
      "    ├── 0\n",
      "    │   └── \u001b[4mNested\u001b[0m\n",
      "    │       ├── \u001b[94mid\u001b[0m = nested0\n",
      "    │       └── \u001b[94manother_value\u001b[0m = something\n",
      "    └── 1\n",
      "        └── \u001b[4mNested\u001b[0m\n",
      "            ├── \u001b[94mid\u001b[0m = nested1\n",
      "            └── \u001b[94manother_value\u001b[0m = something else\n",
      "\n"
     ]
    }
   ],
   "source": [
    "dataset1 = lib.Root(value=100.0)\n",
    "dataset1.add_to_nested(another_value=\"something\")\n",
    "dataset1.add_to_nested(another_value=\"something else\")\n",
    "\n",
    "print(dataset1)"
   ]
  },
  {
   "cell_type": "code",
   "execution_count": 15,
   "metadata": {},
   "outputs": [
    {
     "name": "stdout",
     "output_type": "stream",
     "text": [
      "\u001b[4mRoot\u001b[0m\n",
      "├── \u001b[94mid\u001b[0m = root1\n",
      "├── \u001b[94mvalue\u001b[0m = 20.0\n",
      "└── \u001b[94mnested\u001b[0m\n",
      "    ├── 0\n",
      "    │   └── \u001b[4mNested\u001b[0m\n",
      "    │       ├── \u001b[94mid\u001b[0m = nested2\n",
      "    │       └── \u001b[94manother_value\u001b[0m = hi there\n",
      "    └── 1\n",
      "        └── \u001b[4mNested\u001b[0m\n",
      "            ├── \u001b[94mid\u001b[0m = nested3\n",
      "            └── \u001b[94manother_value\u001b[0m = this is dataaset 2\n",
      "\n"
     ]
    }
   ],
   "source": [
    "dataset2 = lib.Root(value=20.0)\n",
    "dataset2.add_to_nested(another_value=\"hi there\")\n",
    "dataset2.add_to_nested(another_value=\"this is dataaset 2\")\n",
    "\n",
    "print(dataset2)"
   ]
  },
  {
   "cell_type": "code",
   "execution_count": 16,
   "metadata": {},
   "outputs": [
    {
     "name": "stdout",
     "output_type": "stream",
     "text": [
      "Added dataset Root (41bf9d6a-1339-4f7b-a417-d7aec8d5e132)\n",
      "Added dataset Root (8cffad8a-8757-4838-a814-1232c36b97e5)\n"
     ]
    }
   ],
   "source": [
    "# Insert the new dataset into the database\n",
    "db.insert(dataset1, dataset2, verbose=True)"
   ]
  },
  {
   "cell_type": "code",
   "execution_count": 17,
   "metadata": {},
   "outputs": [
    {
     "data": {
      "text/html": [
       "<pre style=\"white-space:pre;overflow-x:auto;line-height:normal;font-family:Menlo,'DejaVu Sans Mono',consolas,'Courier New',monospace\">┏━━━━━━━━━┳━━━━━━━━━━━━━━━━━━━━━━━━━━━━━━━━━━━━━━┓\n",
       "┃<span style=\"font-weight: bold\"> value   </span>┃<span style=\"font-weight: bold\"> id                                   </span>┃\n",
       "┡━━━━━━━━━╇━━━━━━━━━━━━━━━━━━━━━━━━━━━━━━━━━━━━━━┩\n",
       "│ <span style=\"color: #7f7f7f; text-decoration-color: #7f7f7f\">float64</span> │ <span style=\"color: #7f7f7f; text-decoration-color: #7f7f7f\">!string</span>                              │\n",
       "├─────────┼──────────────────────────────────────┤\n",
       "│   <span style=\"color: #008080; text-decoration-color: #008080; font-weight: bold\">100.0</span> │ <span style=\"color: #008000; text-decoration-color: #008000\">41bf9d6a-1339-4f7b-a417-d7aec8d5e132</span> │\n",
       "│    <span style=\"color: #008080; text-decoration-color: #008080; font-weight: bold\">20.0</span> │ <span style=\"color: #008000; text-decoration-color: #008000\">8cffad8a-8757-4838-a814-1232c36b97e5</span> │\n",
       "└─────────┴──────────────────────────────────────┘\n",
       "</pre>\n"
      ],
      "text/plain": [
       "┏━━━━━━━━━┳━━━━━━━━━━━━━━━━━━━━━━━━━━━━━━━━━━━━━━┓\n",
       "┃\u001b[1m \u001b[0m\u001b[1mvalue\u001b[0m\u001b[1m  \u001b[0m\u001b[1m \u001b[0m┃\u001b[1m \u001b[0m\u001b[1mid\u001b[0m\u001b[1m                                  \u001b[0m\u001b[1m \u001b[0m┃\n",
       "┡━━━━━━━━━╇━━━━━━━━━━━━━━━━━━━━━━━━━━━━━━━━━━━━━━┩\n",
       "│ \u001b[2mfloat64\u001b[0m │ \u001b[2m!string\u001b[0m                              │\n",
       "├─────────┼──────────────────────────────────────┤\n",
       "│   \u001b[1;36m100.0\u001b[0m │ \u001b[32m41bf9d6a-1339-4f7b-a417-d7aec8d5e132\u001b[0m │\n",
       "│    \u001b[1;36m20.0\u001b[0m │ \u001b[32m8cffad8a-8757-4838-a814-1232c36b97e5\u001b[0m │\n",
       "└─────────┴──────────────────────────────────────┘"
      ]
     },
     "execution_count": 17,
     "metadata": {},
     "output_type": "execute_result"
    }
   ],
   "source": [
    "# Check both tables\n",
    "db.connection.table(\"Root\")"
   ]
  },
  {
   "cell_type": "code",
   "execution_count": 18,
   "metadata": {},
   "outputs": [
    {
     "data": {
      "text/html": [
       "<pre style=\"white-space:pre;overflow-x:auto;line-height:normal;font-family:Menlo,'DejaVu Sans Mono',consolas,'Courier New',monospace\">┏━━━━━━━━━━━━━━━━━━━━┳━━━━━━━━━━━━━━━━━━━━━━━━━━━━━━━━━━━━━━┳━━━━━━━━━━━━━━━━━━━━━━━━━━━━━━━━━━━━━━┓\n",
       "┃<span style=\"font-weight: bold\"> another_value      </span>┃<span style=\"font-weight: bold\"> id                                   </span>┃<span style=\"font-weight: bold\"> Root                                 </span>┃\n",
       "┡━━━━━━━━━━━━━━━━━━━━╇━━━━━━━━━━━━━━━━━━━━━━━━━━━━━━━━━━━━━━╇━━━━━━━━━━━━━━━━━━━━━━━━━━━━━━━━━━━━━━┩\n",
       "│ <span style=\"color: #7f7f7f; text-decoration-color: #7f7f7f\">string</span>             │ <span style=\"color: #7f7f7f; text-decoration-color: #7f7f7f\">!string</span>                              │ <span style=\"color: #7f7f7f; text-decoration-color: #7f7f7f\">string</span>                               │\n",
       "├────────────────────┼──────────────────────────────────────┼──────────────────────────────────────┤\n",
       "│ <span style=\"color: #008000; text-decoration-color: #008000\">this is dataaset 2</span> │ <span style=\"color: #008000; text-decoration-color: #008000\">08fe2c27-bf30-40a8-82ee-02b0440c6727</span> │ <span style=\"color: #008000; text-decoration-color: #008000\">8cffad8a-8757-4838-a814-1232c36b97e5</span> │\n",
       "│ <span style=\"color: #008000; text-decoration-color: #008000\">hi there          </span> │ <span style=\"color: #008000; text-decoration-color: #008000\">461b8e72-e141-419a-b386-8f2d8639d357</span> │ <span style=\"color: #008000; text-decoration-color: #008000\">8cffad8a-8757-4838-a814-1232c36b97e5</span> │\n",
       "│ <span style=\"color: #008000; text-decoration-color: #008000\">something         </span> │ <span style=\"color: #008000; text-decoration-color: #008000\">bcf7e712-513f-4815-b40d-6d81cc589e17</span> │ <span style=\"color: #008000; text-decoration-color: #008000\">41bf9d6a-1339-4f7b-a417-d7aec8d5e132</span> │\n",
       "│ <span style=\"color: #008000; text-decoration-color: #008000\">something else    </span> │ <span style=\"color: #008000; text-decoration-color: #008000\">fbc6b7c4-1db7-45e4-8908-5a8befd0d0be</span> │ <span style=\"color: #008000; text-decoration-color: #008000\">41bf9d6a-1339-4f7b-a417-d7aec8d5e132</span> │\n",
       "└────────────────────┴──────────────────────────────────────┴──────────────────────────────────────┘\n",
       "</pre>\n"
      ],
      "text/plain": [
       "┏━━━━━━━━━━━━━━━━━━━━┳━━━━━━━━━━━━━━━━━━━━━━━━━━━━━━━━━━━━━━┳━━━━━━━━━━━━━━━━━━━━━━━━━━━━━━━━━━━━━━┓\n",
       "┃\u001b[1m \u001b[0m\u001b[1manother_value\u001b[0m\u001b[1m     \u001b[0m\u001b[1m \u001b[0m┃\u001b[1m \u001b[0m\u001b[1mid\u001b[0m\u001b[1m                                  \u001b[0m\u001b[1m \u001b[0m┃\u001b[1m \u001b[0m\u001b[1mRoot\u001b[0m\u001b[1m                                \u001b[0m\u001b[1m \u001b[0m┃\n",
       "┡━━━━━━━━━━━━━━━━━━━━╇━━━━━━━━━━━━━━━━━━━━━━━━━━━━━━━━━━━━━━╇━━━━━━━━━━━━━━━━━━━━━━━━━━━━━━━━━━━━━━┩\n",
       "│ \u001b[2mstring\u001b[0m             │ \u001b[2m!string\u001b[0m                              │ \u001b[2mstring\u001b[0m                               │\n",
       "├────────────────────┼──────────────────────────────────────┼──────────────────────────────────────┤\n",
       "│ \u001b[32mthis is dataaset 2\u001b[0m │ \u001b[32m08fe2c27-bf30-40a8-82ee-02b0440c6727\u001b[0m │ \u001b[32m8cffad8a-8757-4838-a814-1232c36b97e5\u001b[0m │\n",
       "│ \u001b[32mhi there          \u001b[0m │ \u001b[32m461b8e72-e141-419a-b386-8f2d8639d357\u001b[0m │ \u001b[32m8cffad8a-8757-4838-a814-1232c36b97e5\u001b[0m │\n",
       "│ \u001b[32msomething         \u001b[0m │ \u001b[32mbcf7e712-513f-4815-b40d-6d81cc589e17\u001b[0m │ \u001b[32m41bf9d6a-1339-4f7b-a417-d7aec8d5e132\u001b[0m │\n",
       "│ \u001b[32msomething else    \u001b[0m │ \u001b[32mfbc6b7c4-1db7-45e4-8908-5a8befd0d0be\u001b[0m │ \u001b[32m41bf9d6a-1339-4f7b-a417-d7aec8d5e132\u001b[0m │\n",
       "└────────────────────┴──────────────────────────────────────┴──────────────────────────────────────┘"
      ]
     },
     "execution_count": 18,
     "metadata": {},
     "output_type": "execute_result"
    }
   ],
   "source": [
    "db.connection.table(\"nested\")"
   ]
  }
 ],
 "metadata": {
  "kernelspec": {
   "display_name": "sdrdm-db",
   "language": "python",
   "name": "python3"
  },
  "language_info": {
   "codemirror_mode": {
    "name": "ipython",
    "version": 3
   },
   "file_extension": ".py",
   "mimetype": "text/x-python",
   "name": "python",
   "nbconvert_exporter": "python",
   "pygments_lexer": "ipython3",
   "version": "3.11.5"
  }
 },
 "nbformat": 4,
 "nbformat_minor": 2
}
