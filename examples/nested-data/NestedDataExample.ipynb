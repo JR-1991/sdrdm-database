{
 "cells": [
  {
   "cell_type": "code",
   "execution_count": 1,
   "metadata": {},
   "outputs": [],
   "source": [
    "from sdRDM import DataModel\n",
    "from sdrdm_database import DBConnector"
   ]
  },
  {
   "cell_type": "code",
   "execution_count": 2,
   "metadata": {},
   "outputs": [],
   "source": [
    "# Establish a connection to the database\n",
    "db = DBConnector(\n",
    "    username=\"root\",\n",
    "    password=\"root\",\n",
    "    host=\"localhost\",\n",
    "    db_name=\"db\",\n",
    "    port=3306,\n",
    "    dbtype=\"mysql\",\n",
    ")"
   ]
  },
  {
   "cell_type": "code",
   "execution_count": 3,
   "metadata": {},
   "outputs": [
    {
     "name": "stdout",
     "output_type": "stream",
     "text": [
      "Root\n",
      "├── id\n",
      "├── value\n",
      "├── nested\n",
      "│   └── 0\n",
      "│       ├── id\n",
      "│       ├── another_value\n",
      "│       └── value\n",
      "└── some_values\n"
     ]
    },
    {
     "data": {
      "text/plain": [
       "ClassNode(/Root, class_name=None, constants={}, id=None, module=None, outer_type=None)"
      ]
     },
     "execution_count": 3,
     "metadata": {},
     "output_type": "execute_result"
    }
   ],
   "source": [
    "# Fetch the sdRDM schema\n",
    "lib = DataModel.from_markdown(\"./model.md\")\n",
    "lib.Root.meta_tree()"
   ]
  },
  {
   "cell_type": "code",
   "execution_count": 4,
   "metadata": {},
   "outputs": [
    {
     "name": "stdout",
     "output_type": "stream",
     "text": [
      "\n",
      "🚀 Creating tables for data model Root\n",
      "│\n",
      "├── Model 'Root' already registered. Skipping.\n",
      "├── Table 'Root'. Already exists in database. Skipping.\n",
      "├── Table 'Root_some_values'. Already exists in database. Skipping.\n",
      "├── Table 'Root_nested'. Already exists in database. Skipping.\n",
      "│\n",
      "╰── 🎉 Created all tables for data model Root\n",
      "\n"
     ]
    }
   ],
   "source": [
    "# Create tables for the sdRDM schema\n",
    "db.create_tables(\n",
    "    model=lib.Root,\n",
    "    markdown_path=\"./model.md\",\n",
    ")"
   ]
  },
  {
   "cell_type": "code",
   "execution_count": 5,
   "metadata": {},
   "outputs": [
    {
     "data": {
      "text/html": [
       "<pre style=\"white-space:pre;overflow-x:auto;line-height:normal;font-family:Menlo,'DejaVu Sans Mono',consolas,'Courier New',monospace\"></pre>\n"
      ],
      "text/plain": []
     },
     "metadata": {},
     "output_type": "display_data"
    },
    {
     "name": "stdout",
     "output_type": "stream",
     "text": [
      "┏━━━━━━━━━━━━━┳━━━━━━━━━━━━━━━━━━━━━━━━━━━━━━━━━━━━━━━━━━━━┳━━━━━━━━━━━━┳━━━━━━━━━━━━━┳━━━━━━━━━┳━━━━━━━━━━┓\n",
      "┃\u001b[1m \u001b[0m\u001b[1mtable\u001b[0m\u001b[1m      \u001b[0m\u001b[1m \u001b[0m┃\u001b[1m \u001b[0m\u001b[1mspecifications\u001b[0m\u001b[1m                            \u001b[0m\u001b[1m \u001b[0m┃\u001b[1m \u001b[0m\u001b[1mgithub_url\u001b[0m\u001b[1m \u001b[0m┃\u001b[1m \u001b[0m\u001b[1mcommit_hash\u001b[0m\u001b[1m \u001b[0m┃\u001b[1m \u001b[0m\u001b[1mpart_of\u001b[0m\u001b[1m \u001b[0m┃\u001b[1m \u001b[0m\u001b[1mobj_name\u001b[0m\u001b[1m \u001b[0m┃\n",
      "┡━━━━━━━━━━━━━╇━━━━━━━━━━━━━━━━━━━━━━━━━━━━━━━━━━━━━━━━━━━━╇━━━━━━━━━━━━╇━━━━━━━━━━━━━╇━━━━━━━━━╇━━━━━━━━━━┩\n",
      "│ \u001b[2m!string\u001b[0m     │ \u001b[2mjson\u001b[0m                                       │ \u001b[2mstring\u001b[0m     │ \u001b[2mstring\u001b[0m      │ \u001b[2mstring\u001b[0m  │ \u001b[2mstring\u001b[0m   │\n",
      "├─────────────┼────────────────────────────────────────────┼────────────┼─────────────┼─────────┼──────────┤\n",
      "│ \u001b[32mRoot       \u001b[0m │ \u001b[1m{\u001b[0m\u001b[32m'objects'\u001b[0m: \u001b[1m[\u001b[0m\u001b[33m...\u001b[0m\u001b[1m]\u001b[0m, \u001b[32m'enums'\u001b[0m: \u001b[1m[\u001b[0m\u001b[33m...\u001b[0m\u001b[1m]\u001b[0m, \u001b[33m...\u001b[0m +\u001b[1;36m3\u001b[0m\u001b[1m}\u001b[0m │ \u001b[2mNULL\u001b[0m       │ \u001b[2mNULL\u001b[0m        │ \u001b[2mNULL\u001b[0m    │ \u001b[32mRoot    \u001b[0m │\n",
      "│ \u001b[32mRoot_nested\u001b[0m │ \u001b[2mNULL\u001b[0m                                       │ \u001b[2mNULL\u001b[0m       │ \u001b[2mNULL\u001b[0m        │ \u001b[32mRoot   \u001b[0m │ \u001b[32mNested  \u001b[0m │\n",
      "└─────────────┴────────────────────────────────────────────┴────────────┴─────────────┴─────────┴──────────┘\n",
      "\n"
     ]
    },
    {
     "data": {
      "text/html": [
       "<pre style=\"white-space:pre;overflow-x:auto;line-height:normal;font-family:Menlo,'DejaVu Sans Mono',consolas,'Courier New',monospace\"></pre>\n"
      ],
      "text/plain": []
     },
     "metadata": {},
     "output_type": "display_data"
    },
    {
     "name": "stdout",
     "output_type": "stream",
     "text": [
      "┏━━━━━━━━━┳━━━━━━━━━━━━━━━━━━━━━━━━━━━━━━━━━━━━━━┓\n",
      "┃\u001b[1m \u001b[0m\u001b[1mvalue\u001b[0m\u001b[1m  \u001b[0m\u001b[1m \u001b[0m┃\u001b[1m \u001b[0m\u001b[1mRoot_id\u001b[0m\u001b[1m                             \u001b[0m\u001b[1m \u001b[0m┃\n",
      "┡━━━━━━━━━╇━━━━━━━━━━━━━━━━━━━━━━━━━━━━━━━━━━━━━━┩\n",
      "│ \u001b[2mfloat64\u001b[0m │ \u001b[2m!string\u001b[0m                              │\n",
      "├─────────┼──────────────────────────────────────┤\n",
      "│   \u001b[1;36m100.0\u001b[0m │ \u001b[32m0b9272bf-2d7b-429c-ac5a-f1a4ebc79542\u001b[0m │\n",
      "│    \u001b[1;36m20.0\u001b[0m │ \u001b[32m0cd575e4-1a91-4472-b274-00203bd0b04e\u001b[0m │\n",
      "│   \u001b[1;36m100.0\u001b[0m │ \u001b[32m0d9ced19-e750-4b08-865d-397e050fd62b\u001b[0m │\n",
      "│    \u001b[1;36m20.0\u001b[0m │ \u001b[32m236c39e5-5ddd-42df-901c-b89baa8c6004\u001b[0m │\n",
      "│    \u001b[1;36m20.0\u001b[0m │ \u001b[32m287d3c2e-1ddc-4891-95d5-8200d66dcc59\u001b[0m │\n",
      "│    \u001b[1;36m20.0\u001b[0m │ \u001b[32m2ca93076-0a34-404d-9463-0251251cbcdc\u001b[0m │\n",
      "│   \u001b[1;36m100.0\u001b[0m │ \u001b[32m36ddf86f-2447-4911-b95f-173e133b8e34\u001b[0m │\n",
      "│   \u001b[1;36m100.0\u001b[0m │ \u001b[32m36faf7ad-8906-440e-937e-b7419045ca91\u001b[0m │\n",
      "│   \u001b[1;36m100.0\u001b[0m │ \u001b[32m386814f6-b662-4195-96be-66cc3a81f2ac\u001b[0m │\n",
      "│   \u001b[1;36m100.0\u001b[0m │ \u001b[32m3e78ff3c-256a-4ae5-9e8f-d78e081f0a5b\u001b[0m │\n",
      "│       \u001b[2m…\u001b[0m │ \u001b[2m…\u001b[0m                                    │\n",
      "└─────────┴──────────────────────────────────────┘\n",
      "\n"
     ]
    },
    {
     "data": {
      "text/html": [
       "<pre style=\"white-space:pre;overflow-x:auto;line-height:normal;font-family:Menlo,'DejaVu Sans Mono',consolas,'Courier New',monospace\"></pre>\n"
      ],
      "text/plain": []
     },
     "metadata": {},
     "output_type": "display_data"
    },
    {
     "name": "stdout",
     "output_type": "stream",
     "text": [
      "┏━━━━━━━━━━━━━━━━━━━┳━━━━━━━━━┳━━━━━━━━━━━━━━━━━━━━━━━━━━━━━━━━━━━━━━┳━━━━━━━━━━━━━━━━━━━━━━━━━━━━━━━━━━━━━━┓\n",
      "┃\u001b[1m \u001b[0m\u001b[1manother_value\u001b[0m\u001b[1m    \u001b[0m\u001b[1m \u001b[0m┃\u001b[1m \u001b[0m\u001b[1mvalue\u001b[0m\u001b[1m  \u001b[0m\u001b[1m \u001b[0m┃\u001b[1m \u001b[0m\u001b[1mRoot_nested_id\u001b[0m\u001b[1m                      \u001b[0m\u001b[1m \u001b[0m┃\u001b[1m \u001b[0m\u001b[1mRoot_id\u001b[0m\u001b[1m                             \u001b[0m\u001b[1m \u001b[0m┃\n",
      "┡━━━━━━━━━━━━━━━━━━━╇━━━━━━━━━╇━━━━━━━━━━━━━━━━━━━━━━━━━━━━━━━━━━━━━━╇━━━━━━━━━━━━━━━━━━━━━━━━━━━━━━━━━━━━━━┩\n",
      "│ \u001b[2mstring\u001b[0m            │ \u001b[2mfloat64\u001b[0m │ \u001b[2m!string\u001b[0m                              │ \u001b[2mstring\u001b[0m                               │\n",
      "├───────────────────┼─────────┼──────────────────────────────────────┼──────────────────────────────────────┤\n",
      "│ \u001b[32mhi there         \u001b[0m │     \u001b[1;36mnan\u001b[0m │ \u001b[32m01190ee1-d2ac-416a-9ece-7a8269b0aad4\u001b[0m │ \u001b[32m287d3c2e-1ddc-4891-95d5-8200d66dcc59\u001b[0m │\n",
      "│ \u001b[32msomething else   \u001b[0m │     \u001b[1;36mnan\u001b[0m │ \u001b[32m03d0f64a-c1b3-438e-946f-ce4e323b3bff\u001b[0m │ \u001b[32m0d9ced19-e750-4b08-865d-397e050fd62b\u001b[0m │\n",
      "│ \u001b[32mhi there         \u001b[0m │     \u001b[1;36mnan\u001b[0m │ \u001b[32m0452031f-4d3e-4c8f-93d6-3b01ae170896\u001b[0m │ \u001b[32m44235673-9705-4788-a34c-81cbcc331d2c\u001b[0m │\n",
      "│ \u001b[32msomething        \u001b[0m │     \u001b[1;36mnan\u001b[0m │ \u001b[32m06401b57-2b19-4f17-919c-61ba282f5931\u001b[0m │ \u001b[32m36faf7ad-8906-440e-937e-b7419045ca91\u001b[0m │\n",
      "│ \u001b[32mhi there         \u001b[0m │     \u001b[1;36mnan\u001b[0m │ \u001b[32m11869cf0-ce3e-4c38-9343-03c4b4ab27d1\u001b[0m │ \u001b[32m58077e9c-7c37-43f8-b8fc-5295480b533e\u001b[0m │\n",
      "│ \u001b[32mhi there         \u001b[0m │     \u001b[1;36mnan\u001b[0m │ \u001b[32m14a61c95-b8b0-4198-bb5b-62152f1c1f1b\u001b[0m │ \u001b[32mee0da599-f80c-4077-8279-3d419eba2d88\u001b[0m │\n",
      "│ \u001b[32mthis is dataset 2\u001b[0m │     \u001b[1;36mnan\u001b[0m │ \u001b[32m166b934a-7ee9-4ddb-8d35-9d6a008d5e47\u001b[0m │ \u001b[32m0cd575e4-1a91-4472-b274-00203bd0b04e\u001b[0m │\n",
      "│ \u001b[32mhi there         \u001b[0m │     \u001b[1;36mnan\u001b[0m │ \u001b[32m17466be2-d76d-48d1-8d92-01c06a24f569\u001b[0m │ \u001b[32mcc3c0b12-5271-4ab7-b2bb-cff10fcaff6a\u001b[0m │\n",
      "│ \u001b[32msomething else   \u001b[0m │     \u001b[1;36mnan\u001b[0m │ \u001b[32m1db424f9-7246-4c9a-be37-77f99650a28b\u001b[0m │ \u001b[32mde9cb9c9-3f5d-4fa6-95e2-576a0d31ed23\u001b[0m │\n",
      "│ \u001b[32msomething        \u001b[0m │     \u001b[1;36mnan\u001b[0m │ \u001b[32m20518908-0836-4502-b3f8-ff2fd13e36be\u001b[0m │ \u001b[32m6ac1769a-cc96-42a9-85ae-86825a5ac542\u001b[0m │\n",
      "│ \u001b[2m…\u001b[0m                 │       \u001b[2m…\u001b[0m │ \u001b[2m…\u001b[0m                                    │ \u001b[2m…\u001b[0m                                    │\n",
      "└───────────────────┴─────────┴──────────────────────────────────────┴──────────────────────────────────────┘\n",
      "\n"
     ]
    },
    {
     "data": {
      "text/html": [
       "<pre style=\"white-space:pre;overflow-x:auto;line-height:normal;font-family:Menlo,'DejaVu Sans Mono',consolas,'Courier New',monospace\"></pre>\n"
      ],
      "text/plain": []
     },
     "metadata": {},
     "output_type": "display_data"
    },
    {
     "name": "stdout",
     "output_type": "stream",
     "text": [
      "┏━━━━━━━━━━━━━┳━━━━━━━━━━━━━━━━━━━━━━━━━━━━━━━━━━━━━━┓\n",
      "┃\u001b[1m \u001b[0m\u001b[1msome_values\u001b[0m\u001b[1m \u001b[0m┃\u001b[1m \u001b[0m\u001b[1mRoot_id\u001b[0m\u001b[1m                             \u001b[0m\u001b[1m \u001b[0m┃\n",
      "┡━━━━━━━━━━━━━╇━━━━━━━━━━━━━━━━━━━━━━━━━━━━━━━━━━━━━━┩\n",
      "│ \u001b[2m!string\u001b[0m     │ \u001b[2mstring\u001b[0m                               │\n",
      "├─────────────┼──────────────────────────────────────┤\n",
      "│ \u001b[32mHello      \u001b[0m │ \u001b[32m36ddf86f-2447-4911-b95f-173e133b8e34\u001b[0m │\n",
      "│ \u001b[32mWorld      \u001b[0m │ \u001b[32m36ddf86f-2447-4911-b95f-173e133b8e34\u001b[0m │\n",
      "│ \u001b[32mWhats      \u001b[0m │ \u001b[32mf63706ee-285e-4cc2-96e3-d009efc92264\u001b[0m │\n",
      "│ \u001b[32mup         \u001b[0m │ \u001b[32mf63706ee-285e-4cc2-96e3-d009efc92264\u001b[0m │\n",
      "│ \u001b[32mHello      \u001b[0m │ \u001b[32m82f389f8-d530-42c4-991d-700e12c52395\u001b[0m │\n",
      "│ \u001b[32mWorld      \u001b[0m │ \u001b[32m82f389f8-d530-42c4-991d-700e12c52395\u001b[0m │\n",
      "│ \u001b[32mWhats      \u001b[0m │ \u001b[32m2ca93076-0a34-404d-9463-0251251cbcdc\u001b[0m │\n",
      "│ \u001b[32mup         \u001b[0m │ \u001b[32m2ca93076-0a34-404d-9463-0251251cbcdc\u001b[0m │\n",
      "│ \u001b[32mHello      \u001b[0m │ \u001b[32mc72eded9-b9eb-44ce-bcc0-7b0cd7eaa218\u001b[0m │\n",
      "│ \u001b[32mWorld      \u001b[0m │ \u001b[32mc72eded9-b9eb-44ce-bcc0-7b0cd7eaa218\u001b[0m │\n",
      "│ \u001b[2m…\u001b[0m           │ \u001b[2m…\u001b[0m                                    │\n",
      "└─────────────┴──────────────────────────────────────┘\n",
      "\n"
     ]
    }
   ],
   "source": [
    "# We are now seeking a way to insert an instance of \n",
    "# the sdRDM schema into the database.\n",
    "print(db.connection.table(\"__model_meta__\"))\n",
    "print(db.connection.table(\"Root\"))\n",
    "print(db.connection.table(\"Root_nested\"))\n",
    "print(db.connection.table(\"Root_some_values\"))"
   ]
  },
  {
   "cell_type": "code",
   "execution_count": 6,
   "metadata": {},
   "outputs": [
    {
     "name": "stdout",
     "output_type": "stream",
     "text": [
      "\u001b[4mRoot\u001b[0m\n",
      "├── \u001b[94mid\u001b[0m = root0\n",
      "├── \u001b[94mvalue\u001b[0m = 100.0\n",
      "├── \u001b[94mnested\u001b[0m\n",
      "│   ├── 0\n",
      "│   │   └── \u001b[4mNested\u001b[0m\n",
      "│   │       ├── \u001b[94mid\u001b[0m = nested0\n",
      "│   │       └── \u001b[94manother_value\u001b[0m = something\n",
      "│   └── 1\n",
      "│       └── \u001b[4mNested\u001b[0m\n",
      "│           ├── \u001b[94mid\u001b[0m = nested1\n",
      "│           └── \u001b[94manother_value\u001b[0m = something else\n",
      "└── \u001b[94msome_values\u001b[0m = [Hello, World, ...]\n",
      "\n"
     ]
    }
   ],
   "source": [
    "# Create datasets using the API that has been directly generated from the DB\n",
    "model = db.get_table_api(\"Root\")\n",
    "\n",
    "dataset1 = model(value=100.0, some_values=[\"Hello\", \"World\"])\n",
    "dataset1.add_to_nested(another_value=\"something\")\n",
    "dataset1.add_to_nested(another_value=\"something else\")\n",
    "\n",
    "print(dataset1)"
   ]
  },
  {
   "cell_type": "code",
   "execution_count": 7,
   "metadata": {},
   "outputs": [
    {
     "name": "stdout",
     "output_type": "stream",
     "text": [
      "\u001b[4mRoot\u001b[0m\n",
      "├── \u001b[94mid\u001b[0m = root1\n",
      "├── \u001b[94mvalue\u001b[0m = 20.0\n",
      "├── \u001b[94mnested\u001b[0m\n",
      "│   ├── 0\n",
      "│   │   └── \u001b[4mNested\u001b[0m\n",
      "│   │       ├── \u001b[94mid\u001b[0m = nested2\n",
      "│   │       └── \u001b[94manother_value\u001b[0m = hi there\n",
      "│   └── 1\n",
      "│       └── \u001b[4mNested\u001b[0m\n",
      "│           ├── \u001b[94mid\u001b[0m = nested3\n",
      "│           └── \u001b[94manother_value\u001b[0m = this is dataset 2\n",
      "└── \u001b[94msome_values\u001b[0m = [Whats, up, ...]\n",
      "\n"
     ]
    }
   ],
   "source": [
    "# And another one\n",
    "dataset2 = model(value=20.0, some_values=[\"Whats\", \"up\"])\n",
    "dataset2.add_to_nested(another_value=\"hi there\")\n",
    "dataset2.add_to_nested(another_value=\"this is dataset 2\")\n",
    "\n",
    "print(dataset2)"
   ]
  },
  {
   "cell_type": "code",
   "execution_count": 8,
   "metadata": {},
   "outputs": [
    {
     "name": "stdout",
     "output_type": "stream",
     "text": [
      "Added dataset Root (c9e02eb5-23e3-43df-8315-a39edfb6b29a)\n",
      "Added dataset Root (cd23473d-5e05-4a52-b4cd-68cf266130a9)\n"
     ]
    }
   ],
   "source": [
    "# Insert the new dataset into the database\n",
    "db.insert(dataset1, dataset2, verbose=True)"
   ]
  },
  {
   "cell_type": "code",
   "execution_count": 9,
   "metadata": {},
   "outputs": [
    {
     "data": {
      "text/html": [
       "<pre style=\"white-space:pre;overflow-x:auto;line-height:normal;font-family:Menlo,'DejaVu Sans Mono',consolas,'Courier New',monospace\"></pre>\n"
      ],
      "text/plain": []
     },
     "metadata": {},
     "output_type": "display_data"
    },
    {
     "name": "stdout",
     "output_type": "stream",
     "text": [
      "┏━━━━━━━━━┳━━━━━━━━━━━━━━━━━━━━━━━━━━━━━━━━━━━━━━┓\n",
      "┃\u001b[1m \u001b[0m\u001b[1mvalue\u001b[0m\u001b[1m  \u001b[0m\u001b[1m \u001b[0m┃\u001b[1m \u001b[0m\u001b[1mRoot_id\u001b[0m\u001b[1m                             \u001b[0m\u001b[1m \u001b[0m┃\n",
      "┡━━━━━━━━━╇━━━━━━━━━━━━━━━━━━━━━━━━━━━━━━━━━━━━━━┩\n",
      "│ \u001b[2mfloat64\u001b[0m │ \u001b[2m!string\u001b[0m                              │\n",
      "├─────────┼──────────────────────────────────────┤\n",
      "│   \u001b[1;36m100.0\u001b[0m │ \u001b[32m0b9272bf-2d7b-429c-ac5a-f1a4ebc79542\u001b[0m │\n",
      "│    \u001b[1;36m20.0\u001b[0m │ \u001b[32m0cd575e4-1a91-4472-b274-00203bd0b04e\u001b[0m │\n",
      "│   \u001b[1;36m100.0\u001b[0m │ \u001b[32m0d9ced19-e750-4b08-865d-397e050fd62b\u001b[0m │\n",
      "│    \u001b[1;36m20.0\u001b[0m │ \u001b[32m236c39e5-5ddd-42df-901c-b89baa8c6004\u001b[0m │\n",
      "│    \u001b[1;36m20.0\u001b[0m │ \u001b[32m287d3c2e-1ddc-4891-95d5-8200d66dcc59\u001b[0m │\n",
      "│    \u001b[1;36m20.0\u001b[0m │ \u001b[32m2ca93076-0a34-404d-9463-0251251cbcdc\u001b[0m │\n",
      "│   \u001b[1;36m100.0\u001b[0m │ \u001b[32m36ddf86f-2447-4911-b95f-173e133b8e34\u001b[0m │\n",
      "│   \u001b[1;36m100.0\u001b[0m │ \u001b[32m36faf7ad-8906-440e-937e-b7419045ca91\u001b[0m │\n",
      "│   \u001b[1;36m100.0\u001b[0m │ \u001b[32m386814f6-b662-4195-96be-66cc3a81f2ac\u001b[0m │\n",
      "│   \u001b[1;36m100.0\u001b[0m │ \u001b[32m3e78ff3c-256a-4ae5-9e8f-d78e081f0a5b\u001b[0m │\n",
      "│       \u001b[2m…\u001b[0m │ \u001b[2m…\u001b[0m                                    │\n",
      "└─────────┴──────────────────────────────────────┘\n",
      "\n"
     ]
    },
    {
     "data": {
      "text/html": [
       "<pre style=\"white-space:pre;overflow-x:auto;line-height:normal;font-family:Menlo,'DejaVu Sans Mono',consolas,'Courier New',monospace\"></pre>\n"
      ],
      "text/plain": []
     },
     "metadata": {},
     "output_type": "display_data"
    },
    {
     "name": "stdout",
     "output_type": "stream",
     "text": [
      "┏━━━━━━━━━━━━━━━━━━━┳━━━━━━━━━┳━━━━━━━━━━━━━━━━━━━━━━━━━━━━━━━━━━━━━━┳━━━━━━━━━━━━━━━━━━━━━━━━━━━━━━━━━━━━━━┓\n",
      "┃\u001b[1m \u001b[0m\u001b[1manother_value\u001b[0m\u001b[1m    \u001b[0m\u001b[1m \u001b[0m┃\u001b[1m \u001b[0m\u001b[1mvalue\u001b[0m\u001b[1m  \u001b[0m\u001b[1m \u001b[0m┃\u001b[1m \u001b[0m\u001b[1mRoot_nested_id\u001b[0m\u001b[1m                      \u001b[0m\u001b[1m \u001b[0m┃\u001b[1m \u001b[0m\u001b[1mRoot_id\u001b[0m\u001b[1m                             \u001b[0m\u001b[1m \u001b[0m┃\n",
      "┡━━━━━━━━━━━━━━━━━━━╇━━━━━━━━━╇━━━━━━━━━━━━━━━━━━━━━━━━━━━━━━━━━━━━━━╇━━━━━━━━━━━━━━━━━━━━━━━━━━━━━━━━━━━━━━┩\n",
      "│ \u001b[2mstring\u001b[0m            │ \u001b[2mfloat64\u001b[0m │ \u001b[2m!string\u001b[0m                              │ \u001b[2mstring\u001b[0m                               │\n",
      "├───────────────────┼─────────┼──────────────────────────────────────┼──────────────────────────────────────┤\n",
      "│ \u001b[32mhi there         \u001b[0m │     \u001b[1;36mnan\u001b[0m │ \u001b[32m01190ee1-d2ac-416a-9ece-7a8269b0aad4\u001b[0m │ \u001b[32m287d3c2e-1ddc-4891-95d5-8200d66dcc59\u001b[0m │\n",
      "│ \u001b[32msomething else   \u001b[0m │     \u001b[1;36mnan\u001b[0m │ \u001b[32m03d0f64a-c1b3-438e-946f-ce4e323b3bff\u001b[0m │ \u001b[32m0d9ced19-e750-4b08-865d-397e050fd62b\u001b[0m │\n",
      "│ \u001b[32mhi there         \u001b[0m │     \u001b[1;36mnan\u001b[0m │ \u001b[32m0452031f-4d3e-4c8f-93d6-3b01ae170896\u001b[0m │ \u001b[32m44235673-9705-4788-a34c-81cbcc331d2c\u001b[0m │\n",
      "│ \u001b[32msomething        \u001b[0m │     \u001b[1;36mnan\u001b[0m │ \u001b[32m06401b57-2b19-4f17-919c-61ba282f5931\u001b[0m │ \u001b[32m36faf7ad-8906-440e-937e-b7419045ca91\u001b[0m │\n",
      "│ \u001b[32msomething else   \u001b[0m │     \u001b[1;36mnan\u001b[0m │ \u001b[32m0d80f28a-c017-40d9-9f6c-77d70021cdba\u001b[0m │ \u001b[32mc9e02eb5-23e3-43df-8315-a39edfb6b29a\u001b[0m │\n",
      "│ \u001b[32mhi there         \u001b[0m │     \u001b[1;36mnan\u001b[0m │ \u001b[32m11869cf0-ce3e-4c38-9343-03c4b4ab27d1\u001b[0m │ \u001b[32m58077e9c-7c37-43f8-b8fc-5295480b533e\u001b[0m │\n",
      "│ \u001b[32mhi there         \u001b[0m │     \u001b[1;36mnan\u001b[0m │ \u001b[32m14a61c95-b8b0-4198-bb5b-62152f1c1f1b\u001b[0m │ \u001b[32mee0da599-f80c-4077-8279-3d419eba2d88\u001b[0m │\n",
      "│ \u001b[32mthis is dataset 2\u001b[0m │     \u001b[1;36mnan\u001b[0m │ \u001b[32m166b934a-7ee9-4ddb-8d35-9d6a008d5e47\u001b[0m │ \u001b[32m0cd575e4-1a91-4472-b274-00203bd0b04e\u001b[0m │\n",
      "│ \u001b[32mhi there         \u001b[0m │     \u001b[1;36mnan\u001b[0m │ \u001b[32m17466be2-d76d-48d1-8d92-01c06a24f569\u001b[0m │ \u001b[32mcc3c0b12-5271-4ab7-b2bb-cff10fcaff6a\u001b[0m │\n",
      "│ \u001b[32msomething else   \u001b[0m │     \u001b[1;36mnan\u001b[0m │ \u001b[32m1db424f9-7246-4c9a-be37-77f99650a28b\u001b[0m │ \u001b[32mde9cb9c9-3f5d-4fa6-95e2-576a0d31ed23\u001b[0m │\n",
      "│ \u001b[2m…\u001b[0m                 │       \u001b[2m…\u001b[0m │ \u001b[2m…\u001b[0m                                    │ \u001b[2m…\u001b[0m                                    │\n",
      "└───────────────────┴─────────┴──────────────────────────────────────┴──────────────────────────────────────┘\n",
      "\n"
     ]
    },
    {
     "data": {
      "text/html": [
       "<pre style=\"white-space:pre;overflow-x:auto;line-height:normal;font-family:Menlo,'DejaVu Sans Mono',consolas,'Courier New',monospace\"></pre>\n"
      ],
      "text/plain": []
     },
     "metadata": {},
     "output_type": "display_data"
    },
    {
     "name": "stdout",
     "output_type": "stream",
     "text": [
      "┏━━━━━━━━━━━━━┳━━━━━━━━━━━━━━━━━━━━━━━━━━━━━━━━━━━━━━┓\n",
      "┃\u001b[1m \u001b[0m\u001b[1msome_values\u001b[0m\u001b[1m \u001b[0m┃\u001b[1m \u001b[0m\u001b[1mRoot_id\u001b[0m\u001b[1m                             \u001b[0m\u001b[1m \u001b[0m┃\n",
      "┡━━━━━━━━━━━━━╇━━━━━━━━━━━━━━━━━━━━━━━━━━━━━━━━━━━━━━┩\n",
      "│ \u001b[2m!string\u001b[0m     │ \u001b[2mstring\u001b[0m                               │\n",
      "├─────────────┼──────────────────────────────────────┤\n",
      "│ \u001b[32mHello      \u001b[0m │ \u001b[32m36ddf86f-2447-4911-b95f-173e133b8e34\u001b[0m │\n",
      "│ \u001b[32mWorld      \u001b[0m │ \u001b[32m36ddf86f-2447-4911-b95f-173e133b8e34\u001b[0m │\n",
      "│ \u001b[32mWhats      \u001b[0m │ \u001b[32mf63706ee-285e-4cc2-96e3-d009efc92264\u001b[0m │\n",
      "│ \u001b[32mup         \u001b[0m │ \u001b[32mf63706ee-285e-4cc2-96e3-d009efc92264\u001b[0m │\n",
      "│ \u001b[32mHello      \u001b[0m │ \u001b[32m82f389f8-d530-42c4-991d-700e12c52395\u001b[0m │\n",
      "│ \u001b[32mWorld      \u001b[0m │ \u001b[32m82f389f8-d530-42c4-991d-700e12c52395\u001b[0m │\n",
      "│ \u001b[32mWhats      \u001b[0m │ \u001b[32m2ca93076-0a34-404d-9463-0251251cbcdc\u001b[0m │\n",
      "│ \u001b[32mup         \u001b[0m │ \u001b[32m2ca93076-0a34-404d-9463-0251251cbcdc\u001b[0m │\n",
      "│ \u001b[32mHello      \u001b[0m │ \u001b[32mc72eded9-b9eb-44ce-bcc0-7b0cd7eaa218\u001b[0m │\n",
      "│ \u001b[32mWorld      \u001b[0m │ \u001b[32mc72eded9-b9eb-44ce-bcc0-7b0cd7eaa218\u001b[0m │\n",
      "│ \u001b[2m…\u001b[0m           │ \u001b[2m…\u001b[0m                                    │\n",
      "└─────────────┴──────────────────────────────────────┘\n",
      "\n"
     ]
    }
   ],
   "source": [
    "# Lets see if it worked\n",
    "print(db.connection.table(\"Root\"))\n",
    "print(db.connection.table(\"Root_nested\"))\n",
    "print(db.connection.table(\"Root_some_values\"))"
   ]
  },
  {
   "cell_type": "code",
   "execution_count": 10,
   "metadata": {},
   "outputs": [
    {
     "name": "stdout",
     "output_type": "stream",
     "text": [
      "\u001b[4mRoot\u001b[0m\n",
      "├── \u001b[94mid\u001b[0m = 0b9272bf-2d7b-429c-ac5a-f1a4ebc79542\n",
      "├── \u001b[94mvalue\u001b[0m = 100.0\n",
      "├── \u001b[94mnested\u001b[0m\n",
      "│   ├── 0\n",
      "│   │   └── \u001b[4mNested\u001b[0m\n",
      "│   │       ├── \u001b[94mid\u001b[0m = 48f81a12-fe2b-4ec3-8218-aefd0dca0a09\n",
      "│   │       └── \u001b[94manother_value\u001b[0m = something\n",
      "│   └── 1\n",
      "│       └── \u001b[4mNested\u001b[0m\n",
      "│           ├── \u001b[94mid\u001b[0m = 810ee083-4a24-478c-bc94-1505575ca67d\n",
      "│           └── \u001b[94manother_value\u001b[0m = something else\n",
      "└── \u001b[94msome_values\u001b[0m = [Hello, World, ...]\n",
      "\n"
     ]
    }
   ],
   "source": [
    "# Finally, recover the data from the database by filtering\n",
    "retrieved = db.get(\"Root\")\n",
    "print(retrieved[0])"
   ]
  }
 ],
 "metadata": {
  "kernelspec": {
   "display_name": "sdrdm-db",
   "language": "python",
   "name": "python3"
  },
  "language_info": {
   "codemirror_mode": {
    "name": "ipython",
    "version": 3
   },
   "file_extension": ".py",
   "mimetype": "text/x-python",
   "name": "python",
   "nbconvert_exporter": "python",
   "pygments_lexer": "ipython3",
   "version": "3.11.5"
  }
 },
 "nbformat": 4,
 "nbformat_minor": 2
}
