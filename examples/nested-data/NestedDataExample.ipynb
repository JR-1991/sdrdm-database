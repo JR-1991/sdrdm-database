{
 "cells": [
  {
   "cell_type": "code",
   "execution_count": 1,
   "metadata": {},
   "outputs": [],
   "source": [
    "from sdRDM import DataModel\n",
    "from sdrdm_database import DBConnector, create_tables"
   ]
  },
  {
   "cell_type": "code",
   "execution_count": 2,
   "metadata": {},
   "outputs": [],
   "source": [
    "# Establish a connection to the database\n",
    "db = DBConnector(\n",
    "    username=\"root\",\n",
    "    password=\"root\",\n",
    "    host=\"localhost\",\n",
    "    db_name=\"db\",\n",
    "    port=3306,\n",
    "    dbtype=\"mysql\",\n",
    ")"
   ]
  },
  {
   "cell_type": "code",
   "execution_count": 3,
   "metadata": {},
   "outputs": [
    {
     "data": {
      "text/plain": [
       "Tables\n",
       "------\n",
       "- Test\n",
       "- nested"
      ]
     },
     "execution_count": 3,
     "metadata": {},
     "output_type": "execute_result"
    }
   ],
   "source": [
    "db.connection.tables"
   ]
  },
  {
   "cell_type": "code",
   "execution_count": 3,
   "metadata": {},
   "outputs": [
    {
     "name": "stdout",
     "output_type": "stream",
     "text": [
      "Root\n",
      "├── id\n",
      "├── value\n",
      "├── nested\n",
      "│   └── 0\n",
      "│       ├── id\n",
      "│       └── another_value\n",
      "└── some_values\n"
     ]
    },
    {
     "data": {
      "text/plain": [
       "ClassNode(/Root, class_name=None, constants={}, id=None, module=None, outer_type=None)"
      ]
     },
     "execution_count": 3,
     "metadata": {},
     "output_type": "execute_result"
    }
   ],
   "source": [
    "# Fetch the sdRDM schema\n",
    "lib = DataModel.from_markdown(\"./model.md\")\n",
    "lib.Root.meta_tree()"
   ]
  },
  {
   "cell_type": "code",
   "execution_count": 7,
   "metadata": {},
   "outputs": [],
   "source": [
    "# Create tables for the sdRDM schema\n",
    "create_tables(db_connector=db, model=lib.Root)"
   ]
  },
  {
   "cell_type": "code",
   "execution_count": 8,
   "metadata": {},
   "outputs": [
    {
     "data": {
      "text/plain": [
       "Tables\n",
       "------\n",
       "- Root\n",
       "- nested\n",
       "- some_values"
      ]
     },
     "execution_count": 8,
     "metadata": {},
     "output_type": "execute_result"
    }
   ],
   "source": [
    "db.connection.tables"
   ]
  },
  {
   "cell_type": "code",
   "execution_count": 9,
   "metadata": {},
   "outputs": [
    {
     "data": {
      "text/html": [
       "<pre style=\"white-space:pre;overflow-x:auto;line-height:normal;font-family:Menlo,'DejaVu Sans Mono',consolas,'Courier New',monospace\"></pre>\n"
      ],
      "text/plain": []
     },
     "metadata": {},
     "output_type": "display_data"
    },
    {
     "name": "stdout",
     "output_type": "stream",
     "text": [
      "┏━━━━━━━━━┳━━━━━━━━━┓\n",
      "┃\u001b[1m \u001b[0m\u001b[1mvalue\u001b[0m\u001b[1m  \u001b[0m\u001b[1m \u001b[0m┃\u001b[1m \u001b[0m\u001b[1mid\u001b[0m\u001b[1m     \u001b[0m\u001b[1m \u001b[0m┃\n",
      "┡━━━━━━━━━╇━━━━━━━━━┩\n",
      "│ \u001b[2mfloat64\u001b[0m │ \u001b[2m!string\u001b[0m │\n",
      "└─────────┴─────────┘\n",
      "\n"
     ]
    },
    {
     "data": {
      "text/html": [
       "<pre style=\"white-space:pre;overflow-x:auto;line-height:normal;font-family:Menlo,'DejaVu Sans Mono',consolas,'Courier New',monospace\"></pre>\n"
      ],
      "text/plain": []
     },
     "metadata": {},
     "output_type": "display_data"
    },
    {
     "name": "stdout",
     "output_type": "stream",
     "text": [
      "┏━━━━━━━━━━━━━━━┳━━━━━━━━━┳━━━━━━━━┓\n",
      "┃\u001b[1m \u001b[0m\u001b[1manother_value\u001b[0m\u001b[1m \u001b[0m┃\u001b[1m \u001b[0m\u001b[1mid\u001b[0m\u001b[1m     \u001b[0m\u001b[1m \u001b[0m┃\u001b[1m \u001b[0m\u001b[1mRoot\u001b[0m\u001b[1m  \u001b[0m\u001b[1m \u001b[0m┃\n",
      "┡━━━━━━━━━━━━━━━╇━━━━━━━━━╇━━━━━━━━┩\n",
      "│ \u001b[2mstring\u001b[0m        │ \u001b[2m!string\u001b[0m │ \u001b[2mstring\u001b[0m │\n",
      "└───────────────┴─────────┴────────┘\n",
      "\n"
     ]
    },
    {
     "data": {
      "text/html": [
       "<pre style=\"white-space:pre;overflow-x:auto;line-height:normal;font-family:Menlo,'DejaVu Sans Mono',consolas,'Courier New',monospace\"></pre>\n"
      ],
      "text/plain": []
     },
     "metadata": {},
     "output_type": "display_data"
    },
    {
     "name": "stdout",
     "output_type": "stream",
     "text": [
      "┏━━━━━━━━━━━━━┳━━━━━━━━┓\n",
      "┃\u001b[1m \u001b[0m\u001b[1msome_values\u001b[0m\u001b[1m \u001b[0m┃\u001b[1m \u001b[0m\u001b[1mRoot\u001b[0m\u001b[1m  \u001b[0m\u001b[1m \u001b[0m┃\n",
      "┡━━━━━━━━━━━━━╇━━━━━━━━┩\n",
      "│ \u001b[2m!string\u001b[0m     │ \u001b[2mstring\u001b[0m │\n",
      "└─────────────┴────────┘\n",
      "\n"
     ]
    }
   ],
   "source": [
    "# We are now seeking a way to insert an instance of \n",
    "# the sdRDM schema into the database.\n",
    "print(db.connection.table(\"Root\"))\n",
    "print(db.connection.table(\"nested\"))\n",
    "print(db.connection.table(\"some_values\"))"
   ]
  },
  {
   "cell_type": "code",
   "execution_count": 10,
   "metadata": {},
   "outputs": [
    {
     "name": "stdout",
     "output_type": "stream",
     "text": [
      "\u001b[4mRoot\u001b[0m\n",
      "├── \u001b[94mid\u001b[0m = root0\n",
      "├── \u001b[94mvalue\u001b[0m = 100.0\n",
      "├── \u001b[94mnested\u001b[0m\n",
      "│   ├── 0\n",
      "│   │   └── \u001b[4mNested\u001b[0m\n",
      "│   │       ├── \u001b[94mid\u001b[0m = nested0\n",
      "│   │       └── \u001b[94manother_value\u001b[0m = something\n",
      "│   └── 1\n",
      "│       └── \u001b[4mNested\u001b[0m\n",
      "│           ├── \u001b[94mid\u001b[0m = nested1\n",
      "│           └── \u001b[94manother_value\u001b[0m = something else\n",
      "└── \u001b[94msome_values\u001b[0m = [Hello, World, ...]\n",
      "\n"
     ]
    }
   ],
   "source": [
    "dataset1 = lib.Root(value=100.0, some_values=[\"Hello\", \"World\"])\n",
    "dataset1.add_to_nested(another_value=\"something\")\n",
    "dataset1.add_to_nested(another_value=\"something else\")\n",
    "\n",
    "print(dataset1)"
   ]
  },
  {
   "cell_type": "code",
   "execution_count": 11,
   "metadata": {},
   "outputs": [
    {
     "name": "stdout",
     "output_type": "stream",
     "text": [
      "\u001b[4mRoot\u001b[0m\n",
      "├── \u001b[94mid\u001b[0m = root1\n",
      "├── \u001b[94mvalue\u001b[0m = 20.0\n",
      "├── \u001b[94mnested\u001b[0m\n",
      "│   ├── 0\n",
      "│   │   └── \u001b[4mNested\u001b[0m\n",
      "│   │       ├── \u001b[94mid\u001b[0m = nested2\n",
      "│   │       └── \u001b[94manother_value\u001b[0m = hi there\n",
      "│   └── 1\n",
      "│       └── \u001b[4mNested\u001b[0m\n",
      "│           ├── \u001b[94mid\u001b[0m = nested3\n",
      "│           └── \u001b[94manother_value\u001b[0m = this is dataset 2\n",
      "└── \u001b[94msome_values\u001b[0m = [Whats, up, ...]\n",
      "\n"
     ]
    }
   ],
   "source": [
    "dataset2 = lib.Root(value=20.0, some_values=[\"Whats\", \"up\"])\n",
    "dataset2.add_to_nested(another_value=\"hi there\")\n",
    "dataset2.add_to_nested(another_value=\"this is dataset 2\")\n",
    "\n",
    "print(dataset2)"
   ]
  },
  {
   "cell_type": "code",
   "execution_count": 12,
   "metadata": {},
   "outputs": [
    {
     "name": "stdout",
     "output_type": "stream",
     "text": [
      "Added dataset Root (c100125e-2e40-479c-b1ae-013ca5c25ac5)\n",
      "Added dataset Root (36b3856c-bf93-43c5-b906-7107100e42c4)\n"
     ]
    }
   ],
   "source": [
    "# Insert the new dataset into the database\n",
    "db.insert(dataset1, dataset2, verbose=True)"
   ]
  },
  {
   "cell_type": "code",
   "execution_count": 13,
   "metadata": {},
   "outputs": [
    {
     "data": {
      "text/html": [
       "<pre style=\"white-space:pre;overflow-x:auto;line-height:normal;font-family:Menlo,'DejaVu Sans Mono',consolas,'Courier New',monospace\">┏━━━━━━━━━┳━━━━━━━━━━━━━━━━━━━━━━━━━━━━━━━━━━━━━━┓\n",
       "┃<span style=\"font-weight: bold\"> value   </span>┃<span style=\"font-weight: bold\"> id                                   </span>┃\n",
       "┡━━━━━━━━━╇━━━━━━━━━━━━━━━━━━━━━━━━━━━━━━━━━━━━━━┩\n",
       "│ <span style=\"color: #7f7f7f; text-decoration-color: #7f7f7f\">float64</span> │ <span style=\"color: #7f7f7f; text-decoration-color: #7f7f7f\">!string</span>                              │\n",
       "├─────────┼──────────────────────────────────────┤\n",
       "│    <span style=\"color: #008080; text-decoration-color: #008080; font-weight: bold\">20.0</span> │ <span style=\"color: #008000; text-decoration-color: #008000\">36b3856c-bf93-43c5-b906-7107100e42c4</span> │\n",
       "│   <span style=\"color: #008080; text-decoration-color: #008080; font-weight: bold\">100.0</span> │ <span style=\"color: #008000; text-decoration-color: #008000\">c100125e-2e40-479c-b1ae-013ca5c25ac5</span> │\n",
       "└─────────┴──────────────────────────────────────┘\n",
       "</pre>\n"
      ],
      "text/plain": [
       "┏━━━━━━━━━┳━━━━━━━━━━━━━━━━━━━━━━━━━━━━━━━━━━━━━━┓\n",
       "┃\u001b[1m \u001b[0m\u001b[1mvalue\u001b[0m\u001b[1m  \u001b[0m\u001b[1m \u001b[0m┃\u001b[1m \u001b[0m\u001b[1mid\u001b[0m\u001b[1m                                  \u001b[0m\u001b[1m \u001b[0m┃\n",
       "┡━━━━━━━━━╇━━━━━━━━━━━━━━━━━━━━━━━━━━━━━━━━━━━━━━┩\n",
       "│ \u001b[2mfloat64\u001b[0m │ \u001b[2m!string\u001b[0m                              │\n",
       "├─────────┼──────────────────────────────────────┤\n",
       "│    \u001b[1;36m20.0\u001b[0m │ \u001b[32m36b3856c-bf93-43c5-b906-7107100e42c4\u001b[0m │\n",
       "│   \u001b[1;36m100.0\u001b[0m │ \u001b[32mc100125e-2e40-479c-b1ae-013ca5c25ac5\u001b[0m │\n",
       "└─────────┴──────────────────────────────────────┘"
      ]
     },
     "execution_count": 13,
     "metadata": {},
     "output_type": "execute_result"
    }
   ],
   "source": [
    "# Check both tables\n",
    "db.connection.table(\"Root\")"
   ]
  },
  {
   "cell_type": "code",
   "execution_count": 14,
   "metadata": {},
   "outputs": [
    {
     "data": {
      "text/html": [
       "<pre style=\"white-space:pre;overflow-x:auto;line-height:normal;font-family:Menlo,'DejaVu Sans Mono',consolas,'Courier New',monospace\">┏━━━━━━━━━━━━━━━━━━━┳━━━━━━━━━━━━━━━━━━━━━━━━━━━━━━━━━━━━━━┳━━━━━━━━━━━━━━━━━━━━━━━━━━━━━━━━━━━━━━┓\n",
       "┃<span style=\"font-weight: bold\"> another_value     </span>┃<span style=\"font-weight: bold\"> id                                   </span>┃<span style=\"font-weight: bold\"> Root                                 </span>┃\n",
       "┡━━━━━━━━━━━━━━━━━━━╇━━━━━━━━━━━━━━━━━━━━━━━━━━━━━━━━━━━━━━╇━━━━━━━━━━━━━━━━━━━━━━━━━━━━━━━━━━━━━━┩\n",
       "│ <span style=\"color: #7f7f7f; text-decoration-color: #7f7f7f\">string</span>            │ <span style=\"color: #7f7f7f; text-decoration-color: #7f7f7f\">!string</span>                              │ <span style=\"color: #7f7f7f; text-decoration-color: #7f7f7f\">string</span>                               │\n",
       "├───────────────────┼──────────────────────────────────────┼──────────────────────────────────────┤\n",
       "│ <span style=\"color: #008000; text-decoration-color: #008000\">something        </span> │ <span style=\"color: #008000; text-decoration-color: #008000\">095b1d58-8c9a-48f5-8671-53025f027ccd</span> │ <span style=\"color: #008000; text-decoration-color: #008000\">c100125e-2e40-479c-b1ae-013ca5c25ac5</span> │\n",
       "│ <span style=\"color: #008000; text-decoration-color: #008000\">something else   </span> │ <span style=\"color: #008000; text-decoration-color: #008000\">34b48cdf-745f-432f-a39a-29b66fe0fb77</span> │ <span style=\"color: #008000; text-decoration-color: #008000\">c100125e-2e40-479c-b1ae-013ca5c25ac5</span> │\n",
       "│ <span style=\"color: #008000; text-decoration-color: #008000\">this is dataset 2</span> │ <span style=\"color: #008000; text-decoration-color: #008000\">438375a0-353b-4192-96ce-6676181e0f0b</span> │ <span style=\"color: #008000; text-decoration-color: #008000\">36b3856c-bf93-43c5-b906-7107100e42c4</span> │\n",
       "│ <span style=\"color: #008000; text-decoration-color: #008000\">hi there         </span> │ <span style=\"color: #008000; text-decoration-color: #008000\">8bff4b27-2768-4581-a897-f50002570ae1</span> │ <span style=\"color: #008000; text-decoration-color: #008000\">36b3856c-bf93-43c5-b906-7107100e42c4</span> │\n",
       "└───────────────────┴──────────────────────────────────────┴──────────────────────────────────────┘\n",
       "</pre>\n"
      ],
      "text/plain": [
       "┏━━━━━━━━━━━━━━━━━━━┳━━━━━━━━━━━━━━━━━━━━━━━━━━━━━━━━━━━━━━┳━━━━━━━━━━━━━━━━━━━━━━━━━━━━━━━━━━━━━━┓\n",
       "┃\u001b[1m \u001b[0m\u001b[1manother_value\u001b[0m\u001b[1m    \u001b[0m\u001b[1m \u001b[0m┃\u001b[1m \u001b[0m\u001b[1mid\u001b[0m\u001b[1m                                  \u001b[0m\u001b[1m \u001b[0m┃\u001b[1m \u001b[0m\u001b[1mRoot\u001b[0m\u001b[1m                                \u001b[0m\u001b[1m \u001b[0m┃\n",
       "┡━━━━━━━━━━━━━━━━━━━╇━━━━━━━━━━━━━━━━━━━━━━━━━━━━━━━━━━━━━━╇━━━━━━━━━━━━━━━━━━━━━━━━━━━━━━━━━━━━━━┩\n",
       "│ \u001b[2mstring\u001b[0m            │ \u001b[2m!string\u001b[0m                              │ \u001b[2mstring\u001b[0m                               │\n",
       "├───────────────────┼──────────────────────────────────────┼──────────────────────────────────────┤\n",
       "│ \u001b[32msomething        \u001b[0m │ \u001b[32m095b1d58-8c9a-48f5-8671-53025f027ccd\u001b[0m │ \u001b[32mc100125e-2e40-479c-b1ae-013ca5c25ac5\u001b[0m │\n",
       "│ \u001b[32msomething else   \u001b[0m │ \u001b[32m34b48cdf-745f-432f-a39a-29b66fe0fb77\u001b[0m │ \u001b[32mc100125e-2e40-479c-b1ae-013ca5c25ac5\u001b[0m │\n",
       "│ \u001b[32mthis is dataset 2\u001b[0m │ \u001b[32m438375a0-353b-4192-96ce-6676181e0f0b\u001b[0m │ \u001b[32m36b3856c-bf93-43c5-b906-7107100e42c4\u001b[0m │\n",
       "│ \u001b[32mhi there         \u001b[0m │ \u001b[32m8bff4b27-2768-4581-a897-f50002570ae1\u001b[0m │ \u001b[32m36b3856c-bf93-43c5-b906-7107100e42c4\u001b[0m │\n",
       "└───────────────────┴──────────────────────────────────────┴──────────────────────────────────────┘"
      ]
     },
     "execution_count": 14,
     "metadata": {},
     "output_type": "execute_result"
    }
   ],
   "source": [
    "db.connection.table(\"nested\")"
   ]
  },
  {
   "cell_type": "code",
   "execution_count": 15,
   "metadata": {},
   "outputs": [
    {
     "data": {
      "text/html": [
       "<pre style=\"white-space:pre;overflow-x:auto;line-height:normal;font-family:Menlo,'DejaVu Sans Mono',consolas,'Courier New',monospace\">┏━━━━━━━━━━━━━┳━━━━━━━━━━━━━━━━━━━━━━━━━━━━━━━━━━━━━━┓\n",
       "┃<span style=\"font-weight: bold\"> some_values </span>┃<span style=\"font-weight: bold\"> Root                                 </span>┃\n",
       "┡━━━━━━━━━━━━━╇━━━━━━━━━━━━━━━━━━━━━━━━━━━━━━━━━━━━━━┩\n",
       "│ <span style=\"color: #7f7f7f; text-decoration-color: #7f7f7f\">!string</span>     │ <span style=\"color: #7f7f7f; text-decoration-color: #7f7f7f\">string</span>                               │\n",
       "├─────────────┼──────────────────────────────────────┤\n",
       "│ <span style=\"color: #008000; text-decoration-color: #008000\">Hello      </span> │ <span style=\"color: #008000; text-decoration-color: #008000\">c100125e-2e40-479c-b1ae-013ca5c25ac5</span> │\n",
       "│ <span style=\"color: #008000; text-decoration-color: #008000\">World      </span> │ <span style=\"color: #008000; text-decoration-color: #008000\">c100125e-2e40-479c-b1ae-013ca5c25ac5</span> │\n",
       "│ <span style=\"color: #008000; text-decoration-color: #008000\">Whats      </span> │ <span style=\"color: #008000; text-decoration-color: #008000\">36b3856c-bf93-43c5-b906-7107100e42c4</span> │\n",
       "│ <span style=\"color: #008000; text-decoration-color: #008000\">up         </span> │ <span style=\"color: #008000; text-decoration-color: #008000\">36b3856c-bf93-43c5-b906-7107100e42c4</span> │\n",
       "└─────────────┴──────────────────────────────────────┘\n",
       "</pre>\n"
      ],
      "text/plain": [
       "┏━━━━━━━━━━━━━┳━━━━━━━━━━━━━━━━━━━━━━━━━━━━━━━━━━━━━━┓\n",
       "┃\u001b[1m \u001b[0m\u001b[1msome_values\u001b[0m\u001b[1m \u001b[0m┃\u001b[1m \u001b[0m\u001b[1mRoot\u001b[0m\u001b[1m                                \u001b[0m\u001b[1m \u001b[0m┃\n",
       "┡━━━━━━━━━━━━━╇━━━━━━━━━━━━━━━━━━━━━━━━━━━━━━━━━━━━━━┩\n",
       "│ \u001b[2m!string\u001b[0m     │ \u001b[2mstring\u001b[0m                               │\n",
       "├─────────────┼──────────────────────────────────────┤\n",
       "│ \u001b[32mHello      \u001b[0m │ \u001b[32mc100125e-2e40-479c-b1ae-013ca5c25ac5\u001b[0m │\n",
       "│ \u001b[32mWorld      \u001b[0m │ \u001b[32mc100125e-2e40-479c-b1ae-013ca5c25ac5\u001b[0m │\n",
       "│ \u001b[32mWhats      \u001b[0m │ \u001b[32m36b3856c-bf93-43c5-b906-7107100e42c4\u001b[0m │\n",
       "│ \u001b[32mup         \u001b[0m │ \u001b[32m36b3856c-bf93-43c5-b906-7107100e42c4\u001b[0m │\n",
       "└─────────────┴──────────────────────────────────────┘"
      ]
     },
     "execution_count": 15,
     "metadata": {},
     "output_type": "execute_result"
    }
   ],
   "source": [
    "db.connection.table(\"some_values\")"
   ]
  }
 ],
 "metadata": {
  "kernelspec": {
   "display_name": "sdrdm-db",
   "language": "python",
   "name": "python3"
  },
  "language_info": {
   "codemirror_mode": {
    "name": "ipython",
    "version": 3
   },
   "file_extension": ".py",
   "mimetype": "text/x-python",
   "name": "python",
   "nbconvert_exporter": "python",
   "pygments_lexer": "ipython3",
   "version": "3.11.5"
  }
 },
 "nbformat": 4,
 "nbformat_minor": 2
}
