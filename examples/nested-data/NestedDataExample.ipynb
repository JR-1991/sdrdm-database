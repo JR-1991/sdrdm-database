{
 "cells": [
  {
   "cell_type": "code",
   "execution_count": 4,
   "metadata": {},
   "outputs": [],
   "source": [
    "from sdRDM import DataModel\n",
    "from sdrdm_database import DBConnector, create_tables"
   ]
  },
  {
   "cell_type": "code",
   "execution_count": 5,
   "metadata": {},
   "outputs": [],
   "source": [
    "# Establish a connection to the database\n",
    "db = DBConnector(\n",
    "    username=\"root\",\n",
    "    password=\"root\",\n",
    "    host=\"localhost\",\n",
    "    db_name=\"db\",\n",
    "    port=3306,\n",
    "    dbtype=\"mysql\",\n",
    ")"
   ]
  },
  {
   "cell_type": "code",
   "execution_count": 6,
   "metadata": {},
   "outputs": [
    {
     "name": "stdout",
     "output_type": "stream",
     "text": [
      "Root\n",
      "├── id\n",
      "├── value\n",
      "├── nested\n",
      "│   └── 0\n",
      "│       ├── id\n",
      "│       ├── another_value\n",
      "│       └── value\n",
      "└── some_values\n"
     ]
    },
    {
     "data": {
      "text/plain": [
       "ClassNode(/Root, class_name=None, constants={}, id=None, module=None, outer_type=None)"
      ]
     },
     "execution_count": 6,
     "metadata": {},
     "output_type": "execute_result"
    }
   ],
   "source": [
    "# Fetch the sdRDM schema\n",
    "lib = DataModel.from_markdown(\"./model.md\")\n",
    "lib.Root.meta_tree()"
   ]
  },
  {
   "cell_type": "code",
   "execution_count": 7,
   "metadata": {},
   "outputs": [
    {
     "name": "stdout",
     "output_type": "stream",
     "text": [
      "\n",
      "🚀 Creating tables for data model Root\n",
      "│\n",
      "├── Table __model_meta__ not existing. Adding to DB!\n",
      "├── Added table model 'Root' to __model_meta__ table\n",
      "├── Model 'Root' already registered. Skipping.\n",
      "├── Created table 'Root'\n",
      "├── Created table 'Root_some_values'\n",
      "├── Added table model 'Root_nested' to __model_meta__ table\n",
      "├── Created table 'Root_nested'\n",
      "├── Added foreign key 'Root_id'(Root) to table Root_some_values\n",
      "├── Added foreign key 'Root_id'(Root) to table Root_nested\n",
      "│\n",
      "╰── 🎉 Created all tables for data model Root\n",
      "\n"
     ]
    }
   ],
   "source": [
    "# Create tables for the sdRDM schema\n",
    "create_tables(\n",
    "    db_connector=db,\n",
    "    model=lib.Root,\n",
    "    markdown_path=\"./model.md\",\n",
    ")"
   ]
  },
  {
   "cell_type": "code",
   "execution_count": 8,
   "metadata": {},
   "outputs": [
    {
     "data": {
      "text/html": [
       "<pre style=\"white-space:pre;overflow-x:auto;line-height:normal;font-family:Menlo,'DejaVu Sans Mono',consolas,'Courier New',monospace\"></pre>\n"
      ],
      "text/plain": []
     },
     "metadata": {},
     "output_type": "display_data"
    },
    {
     "name": "stdout",
     "output_type": "stream",
     "text": [
      "┏━━━━━━━━━━━━━┳━━━━━━━━━━━━━━━━━━━━━━━━━━━━━━━━━━━━━━━━━━━━┳━━━━━━━━━━━━┳━━━━━━━━━━━━━┳━━━━━━━━━┳━━━━━━━━━━┓\n",
      "┃\u001b[1m \u001b[0m\u001b[1mtable\u001b[0m\u001b[1m      \u001b[0m\u001b[1m \u001b[0m┃\u001b[1m \u001b[0m\u001b[1mspecifications\u001b[0m\u001b[1m                            \u001b[0m\u001b[1m \u001b[0m┃\u001b[1m \u001b[0m\u001b[1mgithub_url\u001b[0m\u001b[1m \u001b[0m┃\u001b[1m \u001b[0m\u001b[1mcommit_hash\u001b[0m\u001b[1m \u001b[0m┃\u001b[1m \u001b[0m\u001b[1mpart_of\u001b[0m\u001b[1m \u001b[0m┃\u001b[1m \u001b[0m\u001b[1mobj_name\u001b[0m\u001b[1m \u001b[0m┃\n",
      "┡━━━━━━━━━━━━━╇━━━━━━━━━━━━━━━━━━━━━━━━━━━━━━━━━━━━━━━━━━━━╇━━━━━━━━━━━━╇━━━━━━━━━━━━━╇━━━━━━━━━╇━━━━━━━━━━┩\n",
      "│ \u001b[2m!string\u001b[0m     │ \u001b[2mjson\u001b[0m                                       │ \u001b[2mstring\u001b[0m     │ \u001b[2mstring\u001b[0m      │ \u001b[2mstring\u001b[0m  │ \u001b[2mstring\u001b[0m   │\n",
      "├─────────────┼────────────────────────────────────────────┼────────────┼─────────────┼─────────┼──────────┤\n",
      "│ \u001b[32mRoot       \u001b[0m │ \u001b[1m{\u001b[0m\u001b[32m'objects'\u001b[0m: \u001b[1m[\u001b[0m\u001b[33m...\u001b[0m\u001b[1m]\u001b[0m, \u001b[32m'enums'\u001b[0m: \u001b[1m[\u001b[0m\u001b[33m...\u001b[0m\u001b[1m]\u001b[0m, \u001b[33m...\u001b[0m +\u001b[1;36m3\u001b[0m\u001b[1m}\u001b[0m │ \u001b[2mNULL\u001b[0m       │ \u001b[2mNULL\u001b[0m        │ \u001b[2mNULL\u001b[0m    │ \u001b[32mRoot    \u001b[0m │\n",
      "│ \u001b[32mRoot_nested\u001b[0m │ \u001b[2mNULL\u001b[0m                                       │ \u001b[2mNULL\u001b[0m       │ \u001b[2mNULL\u001b[0m        │ \u001b[32mRoot   \u001b[0m │ \u001b[32mNested  \u001b[0m │\n",
      "└─────────────┴────────────────────────────────────────────┴────────────┴─────────────┴─────────┴──────────┘\n",
      "\n"
     ]
    },
    {
     "data": {
      "text/html": [
       "<pre style=\"white-space:pre;overflow-x:auto;line-height:normal;font-family:Menlo,'DejaVu Sans Mono',consolas,'Courier New',monospace\"></pre>\n"
      ],
      "text/plain": []
     },
     "metadata": {},
     "output_type": "display_data"
    },
    {
     "name": "stdout",
     "output_type": "stream",
     "text": [
      "┏━━━━━━━━━┳━━━━━━━━━┓\n",
      "┃\u001b[1m \u001b[0m\u001b[1mvalue\u001b[0m\u001b[1m  \u001b[0m\u001b[1m \u001b[0m┃\u001b[1m \u001b[0m\u001b[1mRoot_id\u001b[0m\u001b[1m \u001b[0m┃\n",
      "┡━━━━━━━━━╇━━━━━━━━━┩\n",
      "│ \u001b[2mfloat64\u001b[0m │ \u001b[2m!string\u001b[0m │\n",
      "└─────────┴─────────┘\n",
      "\n"
     ]
    },
    {
     "data": {
      "text/html": [
       "<pre style=\"white-space:pre;overflow-x:auto;line-height:normal;font-family:Menlo,'DejaVu Sans Mono',consolas,'Courier New',monospace\"></pre>\n"
      ],
      "text/plain": []
     },
     "metadata": {},
     "output_type": "display_data"
    },
    {
     "name": "stdout",
     "output_type": "stream",
     "text": [
      "┏━━━━━━━━━━━━━━━┳━━━━━━━━━┳━━━━━━━━━━━━━━━━┳━━━━━━━━━┓\n",
      "┃\u001b[1m \u001b[0m\u001b[1manother_value\u001b[0m\u001b[1m \u001b[0m┃\u001b[1m \u001b[0m\u001b[1mvalue\u001b[0m\u001b[1m  \u001b[0m\u001b[1m \u001b[0m┃\u001b[1m \u001b[0m\u001b[1mRoot_nested_id\u001b[0m\u001b[1m \u001b[0m┃\u001b[1m \u001b[0m\u001b[1mRoot_id\u001b[0m\u001b[1m \u001b[0m┃\n",
      "┡━━━━━━━━━━━━━━━╇━━━━━━━━━╇━━━━━━━━━━━━━━━━╇━━━━━━━━━┩\n",
      "│ \u001b[2mstring\u001b[0m        │ \u001b[2mfloat64\u001b[0m │ \u001b[2m!string\u001b[0m        │ \u001b[2mstring\u001b[0m  │\n",
      "└───────────────┴─────────┴────────────────┴─────────┘\n",
      "\n"
     ]
    },
    {
     "data": {
      "text/html": [
       "<pre style=\"white-space:pre;overflow-x:auto;line-height:normal;font-family:Menlo,'DejaVu Sans Mono',consolas,'Courier New',monospace\"></pre>\n"
      ],
      "text/plain": []
     },
     "metadata": {},
     "output_type": "display_data"
    },
    {
     "name": "stdout",
     "output_type": "stream",
     "text": [
      "┏━━━━━━━━━━━━━┳━━━━━━━━━┓\n",
      "┃\u001b[1m \u001b[0m\u001b[1msome_values\u001b[0m\u001b[1m \u001b[0m┃\u001b[1m \u001b[0m\u001b[1mRoot_id\u001b[0m\u001b[1m \u001b[0m┃\n",
      "┡━━━━━━━━━━━━━╇━━━━━━━━━┩\n",
      "│ \u001b[2m!string\u001b[0m     │ \u001b[2mstring\u001b[0m  │\n",
      "└─────────────┴─────────┘\n",
      "\n"
     ]
    }
   ],
   "source": [
    "# We are now seeking a way to insert an instance of \n",
    "# the sdRDM schema into the database.\n",
    "print(db.connection.table(\"__model_meta__\"))\n",
    "print(db.connection.table(\"Root\"))\n",
    "print(db.connection.table(\"Root_nested\"))\n",
    "print(db.connection.table(\"Root_some_values\"))"
   ]
  },
  {
   "cell_type": "code",
   "execution_count": 9,
   "metadata": {},
   "outputs": [
    {
     "name": "stdout",
     "output_type": "stream",
     "text": [
      "\u001b[4mRoot\u001b[0m\n",
      "├── \u001b[94mid\u001b[0m = root0\n",
      "├── \u001b[94mvalue\u001b[0m = 100.0\n",
      "├── \u001b[94mnested\u001b[0m\n",
      "│   ├── 0\n",
      "│   │   └── \u001b[4mNested\u001b[0m\n",
      "│   │       ├── \u001b[94mid\u001b[0m = nested0\n",
      "│   │       └── \u001b[94manother_value\u001b[0m = something\n",
      "│   └── 1\n",
      "│       └── \u001b[4mNested\u001b[0m\n",
      "│           ├── \u001b[94mid\u001b[0m = nested1\n",
      "│           └── \u001b[94manother_value\u001b[0m = something else\n",
      "└── \u001b[94msome_values\u001b[0m = [Hello, World, ...]\n",
      "\n"
     ]
    }
   ],
   "source": [
    "# Create datasets using the API that has been directly generated from the DB\n",
    "model = db.get_table_api(\"Root\")\n",
    "\n",
    "dataset1 = model(value=100.0, some_values=[\"Hello\", \"World\"])\n",
    "dataset1.add_to_nested(another_value=\"something\")\n",
    "dataset1.add_to_nested(another_value=\"something else\")\n",
    "\n",
    "print(dataset1)"
   ]
  },
  {
   "cell_type": "code",
   "execution_count": 11,
   "metadata": {},
   "outputs": [
    {
     "name": "stdout",
     "output_type": "stream",
     "text": [
      "\u001b[4mRoot\u001b[0m\n",
      "├── \u001b[94mid\u001b[0m = root2\n",
      "├── \u001b[94mvalue\u001b[0m = 20.0\n",
      "├── \u001b[94mnested\u001b[0m\n",
      "│   ├── 0\n",
      "│   │   └── \u001b[4mNested\u001b[0m\n",
      "│   │       ├── \u001b[94mid\u001b[0m = nested4\n",
      "│   │       └── \u001b[94manother_value\u001b[0m = hi there\n",
      "│   └── 1\n",
      "│       └── \u001b[4mNested\u001b[0m\n",
      "│           ├── \u001b[94mid\u001b[0m = nested5\n",
      "│           └── \u001b[94manother_value\u001b[0m = this is dataset 2\n",
      "└── \u001b[94msome_values\u001b[0m = [Whats, up, ...]\n",
      "\n"
     ]
    }
   ],
   "source": [
    "# And another one\n",
    "dataset2 = model(value=20.0, some_values=[\"Whats\", \"up\"])\n",
    "dataset2.add_to_nested(another_value=\"hi there\")\n",
    "dataset2.add_to_nested(another_value=\"this is dataset 2\")\n",
    "\n",
    "print(dataset2)"
   ]
  },
  {
   "cell_type": "code",
   "execution_count": 12,
   "metadata": {},
   "outputs": [
    {
     "name": "stdout",
     "output_type": "stream",
     "text": [
      "Added dataset Root (3f9018bb-6d68-4f8c-95ce-50fc8dcb9198)\n",
      "Added dataset Root (8798dc6f-5129-4aa4-a51a-2c08af7a3209)\n"
     ]
    }
   ],
   "source": [
    "# Insert the new dataset into the database\n",
    "db.insert(dataset1, dataset2, verbose=True)"
   ]
  },
  {
   "cell_type": "code",
   "execution_count": 13,
   "metadata": {},
   "outputs": [
    {
     "data": {
      "text/html": [
       "<pre style=\"white-space:pre;overflow-x:auto;line-height:normal;font-family:Menlo,'DejaVu Sans Mono',consolas,'Courier New',monospace\"></pre>\n"
      ],
      "text/plain": []
     },
     "metadata": {},
     "output_type": "display_data"
    },
    {
     "name": "stdout",
     "output_type": "stream",
     "text": [
      "┏━━━━━━━━━┳━━━━━━━━━━━━━━━━━━━━━━━━━━━━━━━━━━━━━━┓\n",
      "┃\u001b[1m \u001b[0m\u001b[1mvalue\u001b[0m\u001b[1m  \u001b[0m\u001b[1m \u001b[0m┃\u001b[1m \u001b[0m\u001b[1mRoot_id\u001b[0m\u001b[1m                             \u001b[0m\u001b[1m \u001b[0m┃\n",
      "┡━━━━━━━━━╇━━━━━━━━━━━━━━━━━━━━━━━━━━━━━━━━━━━━━━┩\n",
      "│ \u001b[2mfloat64\u001b[0m │ \u001b[2m!string\u001b[0m                              │\n",
      "├─────────┼──────────────────────────────────────┤\n",
      "│   \u001b[1;36m100.0\u001b[0m │ \u001b[32m3f9018bb-6d68-4f8c-95ce-50fc8dcb9198\u001b[0m │\n",
      "│    \u001b[1;36m20.0\u001b[0m │ \u001b[32m8798dc6f-5129-4aa4-a51a-2c08af7a3209\u001b[0m │\n",
      "└─────────┴──────────────────────────────────────┘\n",
      "\n"
     ]
    },
    {
     "data": {
      "text/html": [
       "<pre style=\"white-space:pre;overflow-x:auto;line-height:normal;font-family:Menlo,'DejaVu Sans Mono',consolas,'Courier New',monospace\"></pre>\n"
      ],
      "text/plain": []
     },
     "metadata": {},
     "output_type": "display_data"
    },
    {
     "name": "stdout",
     "output_type": "stream",
     "text": [
      "┏━━━━━━━━━━━━━━━━━━━┳━━━━━━━━━┳━━━━━━━━━━━━━━━━━━━━━━━━━━━━━━━━━━━━━━┳━━━━━━━━━━━━━━━━━━━━━━━━━━━━━━━━━━━━━━┓\n",
      "┃\u001b[1m \u001b[0m\u001b[1manother_value\u001b[0m\u001b[1m    \u001b[0m\u001b[1m \u001b[0m┃\u001b[1m \u001b[0m\u001b[1mvalue\u001b[0m\u001b[1m  \u001b[0m\u001b[1m \u001b[0m┃\u001b[1m \u001b[0m\u001b[1mRoot_nested_id\u001b[0m\u001b[1m                      \u001b[0m\u001b[1m \u001b[0m┃\u001b[1m \u001b[0m\u001b[1mRoot_id\u001b[0m\u001b[1m                             \u001b[0m\u001b[1m \u001b[0m┃\n",
      "┡━━━━━━━━━━━━━━━━━━━╇━━━━━━━━━╇━━━━━━━━━━━━━━━━━━━━━━━━━━━━━━━━━━━━━━╇━━━━━━━━━━━━━━━━━━━━━━━━━━━━━━━━━━━━━━┩\n",
      "│ \u001b[2mstring\u001b[0m            │ \u001b[2mfloat64\u001b[0m │ \u001b[2m!string\u001b[0m                              │ \u001b[2mstring\u001b[0m                               │\n",
      "├───────────────────┼─────────┼──────────────────────────────────────┼──────────────────────────────────────┤\n",
      "│ \u001b[32msomething else   \u001b[0m │     \u001b[1;36mnan\u001b[0m │ \u001b[32m1ac5aa9f-3e7e-47bf-9282-f9f0e6167318\u001b[0m │ \u001b[32m3f9018bb-6d68-4f8c-95ce-50fc8dcb9198\u001b[0m │\n",
      "│ \u001b[32mthis is dataset 2\u001b[0m │     \u001b[1;36mnan\u001b[0m │ \u001b[32m35d9213c-2d50-468a-ae8e-6a8cc8f560c2\u001b[0m │ \u001b[32m8798dc6f-5129-4aa4-a51a-2c08af7a3209\u001b[0m │\n",
      "│ \u001b[32msomething        \u001b[0m │     \u001b[1;36mnan\u001b[0m │ \u001b[32m9857d37b-fb31-45b5-9774-2de06316365d\u001b[0m │ \u001b[32m3f9018bb-6d68-4f8c-95ce-50fc8dcb9198\u001b[0m │\n",
      "│ \u001b[32mhi there         \u001b[0m │     \u001b[1;36mnan\u001b[0m │ \u001b[32mbe31a90b-9a14-44f6-a97a-2bcc77373cb9\u001b[0m │ \u001b[32m8798dc6f-5129-4aa4-a51a-2c08af7a3209\u001b[0m │\n",
      "└───────────────────┴─────────┴──────────────────────────────────────┴──────────────────────────────────────┘\n",
      "\n"
     ]
    },
    {
     "data": {
      "text/html": [
       "<pre style=\"white-space:pre;overflow-x:auto;line-height:normal;font-family:Menlo,'DejaVu Sans Mono',consolas,'Courier New',monospace\"></pre>\n"
      ],
      "text/plain": []
     },
     "metadata": {},
     "output_type": "display_data"
    },
    {
     "name": "stdout",
     "output_type": "stream",
     "text": [
      "┏━━━━━━━━━━━━━┳━━━━━━━━━━━━━━━━━━━━━━━━━━━━━━━━━━━━━━┓\n",
      "┃\u001b[1m \u001b[0m\u001b[1msome_values\u001b[0m\u001b[1m \u001b[0m┃\u001b[1m \u001b[0m\u001b[1mRoot_id\u001b[0m\u001b[1m                             \u001b[0m\u001b[1m \u001b[0m┃\n",
      "┡━━━━━━━━━━━━━╇━━━━━━━━━━━━━━━━━━━━━━━━━━━━━━━━━━━━━━┩\n",
      "│ \u001b[2m!string\u001b[0m     │ \u001b[2mstring\u001b[0m                               │\n",
      "├─────────────┼──────────────────────────────────────┤\n",
      "│ \u001b[32mHello      \u001b[0m │ \u001b[32m3f9018bb-6d68-4f8c-95ce-50fc8dcb9198\u001b[0m │\n",
      "│ \u001b[32mWorld      \u001b[0m │ \u001b[32m3f9018bb-6d68-4f8c-95ce-50fc8dcb9198\u001b[0m │\n",
      "│ \u001b[32mWhats      \u001b[0m │ \u001b[32m8798dc6f-5129-4aa4-a51a-2c08af7a3209\u001b[0m │\n",
      "│ \u001b[32mup         \u001b[0m │ \u001b[32m8798dc6f-5129-4aa4-a51a-2c08af7a3209\u001b[0m │\n",
      "└─────────────┴──────────────────────────────────────┘\n",
      "\n"
     ]
    }
   ],
   "source": [
    "# Lets see if it worked\n",
    "print(db.connection.table(\"Root\"))\n",
    "print(db.connection.table(\"Root_nested\"))\n",
    "print(db.connection.table(\"Root_some_values\"))"
   ]
  },
  {
   "cell_type": "code",
   "execution_count": 14,
   "metadata": {},
   "outputs": [
    {
     "name": "stdout",
     "output_type": "stream",
     "text": [
      "\u001b[4mRoot\u001b[0m\n",
      "├── \u001b[94mid\u001b[0m = 3f9018bb-6d68-4f8c-95ce-50fc8dcb9198\n",
      "├── \u001b[94mvalue\u001b[0m = 100.0\n",
      "├── \u001b[94mnested\u001b[0m\n",
      "│   ├── 0\n",
      "│   │   └── \u001b[4mNested\u001b[0m\n",
      "│   │       ├── \u001b[94mid\u001b[0m = 1ac5aa9f-3e7e-47bf-9282-f9f0e6167318\n",
      "│   │       └── \u001b[94manother_value\u001b[0m = something else\n",
      "│   └── 1\n",
      "│       └── \u001b[4mNested\u001b[0m\n",
      "│           ├── \u001b[94mid\u001b[0m = 9857d37b-fb31-45b5-9774-2de06316365d\n",
      "│           └── \u001b[94manother_value\u001b[0m = something\n",
      "└── \u001b[94msome_values\u001b[0m = [Hello, World, ...]\n",
      "\n"
     ]
    }
   ],
   "source": [
    "# Finally, recover the data from the database by filtering\n",
    "retrieved = db.get(table=\"Root\", attribute=\"value\", value=100.0,)\n",
    "print(retrieved[0])"
   ]
  }
 ],
 "metadata": {
  "kernelspec": {
   "display_name": "sdrdm-db",
   "language": "python",
   "name": "python3"
  },
  "language_info": {
   "codemirror_mode": {
    "name": "ipython",
    "version": 3
   },
   "file_extension": ".py",
   "mimetype": "text/x-python",
   "name": "python",
   "nbconvert_exporter": "python",
   "pygments_lexer": "ipython3",
   "version": "3.11.5"
  }
 },
 "nbformat": 4,
 "nbformat_minor": 2
}
