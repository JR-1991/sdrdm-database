{
 "cells": [
  {
   "cell_type": "code",
   "execution_count": null,
   "metadata": {},
   "outputs": [],
   "source": [
    "from sdRDM import DataModel\n",
    "from sdrdm_database import DBConnector, create_tables"
   ]
  },
  {
   "cell_type": "code",
   "execution_count": null,
   "metadata": {},
   "outputs": [],
   "source": [
    "# Establish a connection to the database\n",
    "db = DBConnector(\n",
    "    username=\"root\",\n",
    "    password=\"root\",\n",
    "    host=\"localhost\",\n",
    "    db_name=\"ExampleDB\",\n",
    "    port=5432\n",
    ")"
   ]
  },
  {
   "cell_type": "code",
   "execution_count": null,
   "metadata": {},
   "outputs": [],
   "source": [
    "db.connection.list_tables()"
   ]
  },
  {
   "cell_type": "code",
   "execution_count": null,
   "metadata": {},
   "outputs": [],
   "source": [
    "# Check if there are no tables in the database\n",
    "db.connection.list_tables()"
   ]
  },
  {
   "cell_type": "code",
   "execution_count": null,
   "metadata": {},
   "outputs": [],
   "source": [
    "# Fetch the EnzymeML data model from the git repository\n",
    "libEnzymeML = DataModel.from_git(\"https://github.com/EnzymeML/enzymeml-specifications.git\")\n",
    "libEnzymeML"
   ]
  },
  {
   "cell_type": "code",
   "execution_count": null,
   "metadata": {},
   "outputs": [],
   "source": [
    "# Now create tables for 'Reactants' and 'Proteins'\n",
    "create_tables(db_connector=db, model=libEnzymeML.Reactant)\n",
    "create_tables(db_connector=db, model=libEnzymeML.Protein)"
   ]
  },
  {
   "cell_type": "code",
   "execution_count": null,
   "metadata": {},
   "outputs": [],
   "source": [
    "# Check if the tables have been created\n",
    "db.connection.list_tables()\n",
    "\n",
    "# Inspect one of the tables using Ibis\n",
    "reactant_table = db.connection.table(\"Reactant\")\n",
    "reactant_table"
   ]
  },
  {
   "cell_type": "code",
   "execution_count": null,
   "metadata": {},
   "outputs": [],
   "source": [
    "reactant = libEnzymeML.Reactant(\n",
    "    name=\"Substrate\",\n",
    "    vessel_id=\"Eppendorf Tube\",\n",
    "    constant=True,\n",
    ")\n",
    "reactant"
   ]
  },
  {
   "cell_type": "code",
   "execution_count": null,
   "metadata": {},
   "outputs": [],
   "source": [
    "# Now add an example Reactant to the database\n",
    "reactant = libEnzymeML.Reactant(\n",
    "    name=\"Substrate\",\n",
    "    vessel_id=\"Eppendorf Tube\",\n",
    "    constant=True,\n",
    ")\n",
    "\n",
    "db.connection.insert(\"Reactant\", [reactant.dict()])"
   ]
  },
  {
   "cell_type": "code",
   "execution_count": null,
   "metadata": {},
   "outputs": [],
   "source": [
    "# Check if it has been added\n",
    "reactant_table"
   ]
  },
  {
   "cell_type": "markdown",
   "metadata": {},
   "source": [
    "### Confirm using PgAdmin\n",
    "\n",
    "<p align=\"center\">\n",
    "    <image src=\"./pgadmin-check.png\" /> \n",
    "</p>"
   ]
  },
  {
   "cell_type": "markdown",
   "metadata": {},
   "source": []
  }
 ],
 "metadata": {
  "kernelspec": {
   "display_name": "sdrdm-db",
   "language": "python",
   "name": "python3"
  },
  "language_info": {
   "codemirror_mode": {
    "name": "ipython",
    "version": 3
   },
   "file_extension": ".py",
   "mimetype": "text/x-python",
   "name": "python",
   "nbconvert_exporter": "python",
   "pygments_lexer": "ipython3",
   "version": "3.11.5"
  },
  "orig_nbformat": 4
 },
 "nbformat": 4,
 "nbformat_minor": 2
}
