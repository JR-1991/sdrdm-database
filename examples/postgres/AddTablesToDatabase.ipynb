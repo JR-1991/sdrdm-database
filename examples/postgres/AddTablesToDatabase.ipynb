{
 "cells": [
  {
   "cell_type": "code",
   "execution_count": 2,
   "metadata": {},
   "outputs": [],
   "source": [
    "from sdRDM import DataModel\n",
    "from sdRDM_db import DBConnector, create_tables"
   ]
  },
  {
   "cell_type": "code",
   "execution_count": 3,
   "metadata": {},
   "outputs": [],
   "source": [
    "# Establish a connection to the database\n",
    "db = DBConnector(\n",
    "    username=\"root\",\n",
    "    password=\"root\",\n",
    "    host=\"localhost\",\n",
    "    db_name=\"ExampleDB\"\n",
    ")"
   ]
  },
  {
   "cell_type": "code",
   "execution_count": 4,
   "metadata": {},
   "outputs": [
    {
     "data": {
      "text/plain": [
       "[]"
      ]
     },
     "execution_count": 4,
     "metadata": {},
     "output_type": "execute_result"
    }
   ],
   "source": [
    "# Check if there are no tables in the database\n",
    "db.connection.list_tables()"
   ]
  },
  {
   "cell_type": "code",
   "execution_count": 5,
   "metadata": {},
   "outputs": [
    {
     "data": {
      "text/plain": [
       "\u001b[96mObjects\u001b[0m EnzymeMLDocument, Creator, Vessel, AbstractSpecies, Protein, Complex, Reactant,\n",
       "        Reaction, ReactionElement, KineticModel, KineticParameter, Measurement, MeasurementData,\n",
       "        Replicate, File\n",
       "\u001b[96mEnums\u001b[0m   SBOTerm, DataTypes\n",
       "\u001b[96mLinks\u001b[0m   sbml"
      ]
     },
     "execution_count": 5,
     "metadata": {},
     "output_type": "execute_result"
    }
   ],
   "source": [
    "# Fetch the EnzymeML data model from the git repository\n",
    "libEnzymeML = DataModel.from_git(\"https://github.com/EnzymeML/enzymeml-specifications.git\")\n",
    "libEnzymeML"
   ]
  },
  {
   "cell_type": "code",
   "execution_count": 6,
   "metadata": {},
   "outputs": [],
   "source": [
    "# Now create tables for 'Reactants' and 'Proteins'\n",
    "create_tables(db_connector=db, model=libEnzymeML.Reactant)\n",
    "create_tables(db_connector=db, model=libEnzymeML.Protein)"
   ]
  },
  {
   "cell_type": "code",
   "execution_count": 7,
   "metadata": {},
   "outputs": [
    {
     "data": {
      "text/html": [
       "<pre style=\"white-space:pre;overflow-x:auto;line-height:normal;font-family:Menlo,'DejaVu Sans Mono',consolas,'Courier New',monospace\">┏━━━━━━━━━┳━━━━━━━━━━━┳━━━━━━━━━━━┳━━━━━━━━━━┳━━━━━━━━━┳━━━━━━━━━┳━━━━━━━━━━━━┳━━━━━━━━━┳━━━━━━━━━┳━━━━━━━━━━┳━━━━━━━━━━┳━━━━━━━━┓\n",
       "┃<span style=\"font-weight: bold\"> name    </span>┃<span style=\"font-weight: bold\"> vessel_id </span>┃<span style=\"font-weight: bold\"> init_conc </span>┃<span style=\"font-weight: bold\"> constant </span>┃<span style=\"font-weight: bold\"> unit    </span>┃<span style=\"font-weight: bold\"> uri     </span>┃<span style=\"font-weight: bold\"> creator_id </span>┃<span style=\"font-weight: bold\"> smiles  </span>┃<span style=\"font-weight: bold\"> inchi   </span>┃<span style=\"font-weight: bold\"> chebi_id </span>┃<span style=\"font-weight: bold\"> ontology </span>┃<span style=\"font-weight: bold\"> id     </span>┃\n",
       "┡━━━━━━━━━╇━━━━━━━━━━━╇━━━━━━━━━━━╇━━━━━━━━━━╇━━━━━━━━━╇━━━━━━━━━╇━━━━━━━━━━━━╇━━━━━━━━━╇━━━━━━━━━╇━━━━━━━━━━╇━━━━━━━━━━╇━━━━━━━━┩\n",
       "│ <span style=\"color: #7f7f7f; text-decoration-color: #7f7f7f\">!string</span> │ <span style=\"color: #7f7f7f; text-decoration-color: #7f7f7f\">!string</span>   │ <span style=\"color: #7f7f7f; text-decoration-color: #7f7f7f\">!float64</span>  │ <span style=\"color: #7f7f7f; text-decoration-color: #7f7f7f\">!string</span>  │ <span style=\"color: #7f7f7f; text-decoration-color: #7f7f7f\">!string</span> │ <span style=\"color: #7f7f7f; text-decoration-color: #7f7f7f\">!string</span> │ <span style=\"color: #7f7f7f; text-decoration-color: #7f7f7f\">!string</span>    │ <span style=\"color: #7f7f7f; text-decoration-color: #7f7f7f\">!string</span> │ <span style=\"color: #7f7f7f; text-decoration-color: #7f7f7f\">!string</span> │ <span style=\"color: #7f7f7f; text-decoration-color: #7f7f7f\">!string</span>  │ <span style=\"color: #7f7f7f; text-decoration-color: #7f7f7f\">!string</span>  │ <span style=\"color: #7f7f7f; text-decoration-color: #7f7f7f\">!int32</span> │\n",
       "└─────────┴───────────┴───────────┴──────────┴─────────┴─────────┴────────────┴─────────┴─────────┴──────────┴──────────┴────────┘\n",
       "</pre>\n"
      ],
      "text/plain": [
       "┏━━━━━━━━━┳━━━━━━━━━━━┳━━━━━━━━━━━┳━━━━━━━━━━┳━━━━━━━━━┳━━━━━━━━━┳━━━━━━━━━━━━┳━━━━━━━━━┳━━━━━━━━━┳━━━━━━━━━━┳━━━━━━━━━━┳━━━━━━━━┓\n",
       "┃\u001b[1m \u001b[0m\u001b[1mname\u001b[0m\u001b[1m   \u001b[0m\u001b[1m \u001b[0m┃\u001b[1m \u001b[0m\u001b[1mvessel_id\u001b[0m\u001b[1m \u001b[0m┃\u001b[1m \u001b[0m\u001b[1minit_conc\u001b[0m\u001b[1m \u001b[0m┃\u001b[1m \u001b[0m\u001b[1mconstant\u001b[0m\u001b[1m \u001b[0m┃\u001b[1m \u001b[0m\u001b[1munit\u001b[0m\u001b[1m   \u001b[0m\u001b[1m \u001b[0m┃\u001b[1m \u001b[0m\u001b[1muri\u001b[0m\u001b[1m    \u001b[0m\u001b[1m \u001b[0m┃\u001b[1m \u001b[0m\u001b[1mcreator_id\u001b[0m\u001b[1m \u001b[0m┃\u001b[1m \u001b[0m\u001b[1msmiles\u001b[0m\u001b[1m \u001b[0m\u001b[1m \u001b[0m┃\u001b[1m \u001b[0m\u001b[1minchi\u001b[0m\u001b[1m  \u001b[0m\u001b[1m \u001b[0m┃\u001b[1m \u001b[0m\u001b[1mchebi_id\u001b[0m\u001b[1m \u001b[0m┃\u001b[1m \u001b[0m\u001b[1montology\u001b[0m\u001b[1m \u001b[0m┃\u001b[1m \u001b[0m\u001b[1mid\u001b[0m\u001b[1m    \u001b[0m\u001b[1m \u001b[0m┃\n",
       "┡━━━━━━━━━╇━━━━━━━━━━━╇━━━━━━━━━━━╇━━━━━━━━━━╇━━━━━━━━━╇━━━━━━━━━╇━━━━━━━━━━━━╇━━━━━━━━━╇━━━━━━━━━╇━━━━━━━━━━╇━━━━━━━━━━╇━━━━━━━━┩\n",
       "│ \u001b[2m!string\u001b[0m │ \u001b[2m!string\u001b[0m   │ \u001b[2m!float64\u001b[0m  │ \u001b[2m!string\u001b[0m  │ \u001b[2m!string\u001b[0m │ \u001b[2m!string\u001b[0m │ \u001b[2m!string\u001b[0m    │ \u001b[2m!string\u001b[0m │ \u001b[2m!string\u001b[0m │ \u001b[2m!string\u001b[0m  │ \u001b[2m!string\u001b[0m  │ \u001b[2m!int32\u001b[0m │\n",
       "└─────────┴───────────┴───────────┴──────────┴─────────┴─────────┴────────────┴─────────┴─────────┴──────────┴──────────┴────────┘"
      ]
     },
     "execution_count": 7,
     "metadata": {},
     "output_type": "execute_result"
    }
   ],
   "source": [
    "# Check if the tables have been created\n",
    "db.connection.list_tables()\n",
    "\n",
    "# Inspect one of the tables using Ibis\n",
    "reactant_table = db.connection.table(\"Reactant\")\n",
    "reactant_table"
   ]
  },
  {
   "cell_type": "code",
   "execution_count": 8,
   "metadata": {},
   "outputs": [],
   "source": [
    "# Now add an example Reactant to the database\n",
    "reactant = libEnzymeML.Reactant(\n",
    "    id=2,\n",
    "    name=\"Substrate\",\n",
    "    vessel_id=\"Eppendorf Tube\",\n",
    "    init_conc=10.0,\n",
    "    constant=True,\n",
    "    unit=\"mM\",\n",
    "    creator_id=\"JR\",\n",
    "    uri=\"SomeURI\",\n",
    "    smiles=\"SomeSmiles\",\n",
    "    inchi=\"SomeInchi\",\n",
    "    chebi_id=\"SomeChebi\",\n",
    "    onotology_id=\"SomeOntologyID\",\n",
    ")\n",
    "\n",
    "db.connection.insert(\"Reactant\", [reactant.dict()])"
   ]
  },
  {
   "cell_type": "code",
   "execution_count": 9,
   "metadata": {},
   "outputs": [
    {
     "data": {
      "text/html": [
       "<pre style=\"white-space:pre;overflow-x:auto;line-height:normal;font-family:Menlo,'DejaVu Sans Mono',consolas,'Courier New',monospace\">┏━━━━━━━━━━━┳━━━━━━━━━━━━━━━━┳━━━━━━━━━━━┳━━━━━━━━━━┳━━━━━━━━━┳━━━━━━━━━┳━━━━━━━━━━━━┳━━━━━━━━━━━━┳━━━━━━━━━━━┳━━━━━━━━━━━┳━━━━━━━━━━━━━┳━━━━━━━━┓\n",
       "┃<span style=\"font-weight: bold\"> name      </span>┃<span style=\"font-weight: bold\"> vessel_id      </span>┃<span style=\"font-weight: bold\"> init_conc </span>┃<span style=\"font-weight: bold\"> constant </span>┃<span style=\"font-weight: bold\"> unit    </span>┃<span style=\"font-weight: bold\"> uri     </span>┃<span style=\"font-weight: bold\"> creator_id </span>┃<span style=\"font-weight: bold\"> smiles     </span>┃<span style=\"font-weight: bold\"> inchi     </span>┃<span style=\"font-weight: bold\"> chebi_id  </span>┃<span style=\"font-weight: bold\"> ontology    </span>┃<span style=\"font-weight: bold\"> id     </span>┃\n",
       "┡━━━━━━━━━━━╇━━━━━━━━━━━━━━━━╇━━━━━━━━━━━╇━━━━━━━━━━╇━━━━━━━━━╇━━━━━━━━━╇━━━━━━━━━━━━╇━━━━━━━━━━━━╇━━━━━━━━━━━╇━━━━━━━━━━━╇━━━━━━━━━━━━━╇━━━━━━━━┩\n",
       "│ <span style=\"color: #7f7f7f; text-decoration-color: #7f7f7f\">!string</span>   │ <span style=\"color: #7f7f7f; text-decoration-color: #7f7f7f\">!string</span>        │ <span style=\"color: #7f7f7f; text-decoration-color: #7f7f7f\">!float64</span>  │ <span style=\"color: #7f7f7f; text-decoration-color: #7f7f7f\">!string</span>  │ <span style=\"color: #7f7f7f; text-decoration-color: #7f7f7f\">!string</span> │ <span style=\"color: #7f7f7f; text-decoration-color: #7f7f7f\">!string</span> │ <span style=\"color: #7f7f7f; text-decoration-color: #7f7f7f\">!string</span>    │ <span style=\"color: #7f7f7f; text-decoration-color: #7f7f7f\">!string</span>    │ <span style=\"color: #7f7f7f; text-decoration-color: #7f7f7f\">!string</span>   │ <span style=\"color: #7f7f7f; text-decoration-color: #7f7f7f\">!string</span>   │ <span style=\"color: #7f7f7f; text-decoration-color: #7f7f7f\">!string</span>     │ <span style=\"color: #7f7f7f; text-decoration-color: #7f7f7f\">!int32</span> │\n",
       "├───────────┼────────────────┼───────────┼──────────┼─────────┼─────────┼────────────┼────────────┼───────────┼───────────┼─────────────┼────────┤\n",
       "│ <span style=\"color: #008000; text-decoration-color: #008000\">Substrate</span> │ <span style=\"color: #008000; text-decoration-color: #008000\">Eppendorf Tube</span> │      <span style=\"color: #008080; text-decoration-color: #008080; font-weight: bold\">10.0</span> │ <span style=\"color: #008000; text-decoration-color: #008000\">true    </span> │ <span style=\"color: #008000; text-decoration-color: #008000\">mM     </span> │ <span style=\"color: #008000; text-decoration-color: #008000\">SomeURI</span> │ <span style=\"color: #008000; text-decoration-color: #008000\">JR        </span> │ <span style=\"color: #008000; text-decoration-color: #008000\">SomeSmiles</span> │ <span style=\"color: #008000; text-decoration-color: #008000\">SomeInchi</span> │ <span style=\"color: #008000; text-decoration-color: #008000\">SomeChebi</span> │ <span style=\"color: #008000; text-decoration-color: #008000\">SBO:0000247</span> │      <span style=\"color: #008080; text-decoration-color: #008080; font-weight: bold\">2</span> │\n",
       "└───────────┴────────────────┴───────────┴──────────┴─────────┴─────────┴────────────┴────────────┴───────────┴───────────┴─────────────┴────────┘\n",
       "</pre>\n"
      ],
      "text/plain": [
       "┏━━━━━━━━━━━┳━━━━━━━━━━━━━━━━┳━━━━━━━━━━━┳━━━━━━━━━━┳━━━━━━━━━┳━━━━━━━━━┳━━━━━━━━━━━━┳━━━━━━━━━━━━┳━━━━━━━━━━━┳━━━━━━━━━━━┳━━━━━━━━━━━━━┳━━━━━━━━┓\n",
       "┃\u001b[1m \u001b[0m\u001b[1mname\u001b[0m\u001b[1m     \u001b[0m\u001b[1m \u001b[0m┃\u001b[1m \u001b[0m\u001b[1mvessel_id\u001b[0m\u001b[1m     \u001b[0m\u001b[1m \u001b[0m┃\u001b[1m \u001b[0m\u001b[1minit_conc\u001b[0m\u001b[1m \u001b[0m┃\u001b[1m \u001b[0m\u001b[1mconstant\u001b[0m\u001b[1m \u001b[0m┃\u001b[1m \u001b[0m\u001b[1munit\u001b[0m\u001b[1m   \u001b[0m\u001b[1m \u001b[0m┃\u001b[1m \u001b[0m\u001b[1muri\u001b[0m\u001b[1m    \u001b[0m\u001b[1m \u001b[0m┃\u001b[1m \u001b[0m\u001b[1mcreator_id\u001b[0m\u001b[1m \u001b[0m┃\u001b[1m \u001b[0m\u001b[1msmiles\u001b[0m\u001b[1m    \u001b[0m\u001b[1m \u001b[0m┃\u001b[1m \u001b[0m\u001b[1minchi\u001b[0m\u001b[1m    \u001b[0m\u001b[1m \u001b[0m┃\u001b[1m \u001b[0m\u001b[1mchebi_id\u001b[0m\u001b[1m \u001b[0m\u001b[1m \u001b[0m┃\u001b[1m \u001b[0m\u001b[1montology\u001b[0m\u001b[1m   \u001b[0m\u001b[1m \u001b[0m┃\u001b[1m \u001b[0m\u001b[1mid\u001b[0m\u001b[1m    \u001b[0m\u001b[1m \u001b[0m┃\n",
       "┡━━━━━━━━━━━╇━━━━━━━━━━━━━━━━╇━━━━━━━━━━━╇━━━━━━━━━━╇━━━━━━━━━╇━━━━━━━━━╇━━━━━━━━━━━━╇━━━━━━━━━━━━╇━━━━━━━━━━━╇━━━━━━━━━━━╇━━━━━━━━━━━━━╇━━━━━━━━┩\n",
       "│ \u001b[2m!string\u001b[0m   │ \u001b[2m!string\u001b[0m        │ \u001b[2m!float64\u001b[0m  │ \u001b[2m!string\u001b[0m  │ \u001b[2m!string\u001b[0m │ \u001b[2m!string\u001b[0m │ \u001b[2m!string\u001b[0m    │ \u001b[2m!string\u001b[0m    │ \u001b[2m!string\u001b[0m   │ \u001b[2m!string\u001b[0m   │ \u001b[2m!string\u001b[0m     │ \u001b[2m!int32\u001b[0m │\n",
       "├───────────┼────────────────┼───────────┼──────────┼─────────┼─────────┼────────────┼────────────┼───────────┼───────────┼─────────────┼────────┤\n",
       "│ \u001b[32mSubstrate\u001b[0m │ \u001b[32mEppendorf Tube\u001b[0m │      \u001b[1;36m10.0\u001b[0m │ \u001b[32mtrue    \u001b[0m │ \u001b[32mmM     \u001b[0m │ \u001b[32mSomeURI\u001b[0m │ \u001b[32mJR        \u001b[0m │ \u001b[32mSomeSmiles\u001b[0m │ \u001b[32mSomeInchi\u001b[0m │ \u001b[32mSomeChebi\u001b[0m │ \u001b[32mSBO:0000247\u001b[0m │      \u001b[1;36m2\u001b[0m │\n",
       "└───────────┴────────────────┴───────────┴──────────┴─────────┴─────────┴────────────┴────────────┴───────────┴───────────┴─────────────┴────────┘"
      ]
     },
     "execution_count": 9,
     "metadata": {},
     "output_type": "execute_result"
    }
   ],
   "source": [
    "# Check if it has been added\n",
    "reactant_table"
   ]
  },
  {
   "cell_type": "markdown",
   "metadata": {},
   "source": [
    "### Confirm using PgAdmin\n",
    "\n",
    "<p align=\"center\">\n",
    "    <image src=\"./pgadmin-check.png\" /> \n",
    "</p>"
   ]
  },
  {
   "cell_type": "markdown",
   "metadata": {},
   "source": []
  }
 ],
 "metadata": {
  "kernelspec": {
   "display_name": "sdrdm",
   "language": "python",
   "name": "sdrdm"
  },
  "language_info": {
   "codemirror_mode": {
    "name": "ipython",
    "version": 3
   },
   "file_extension": ".py",
   "mimetype": "text/x-python",
   "name": "python",
   "nbconvert_exporter": "python",
   "pygments_lexer": "ipython3",
   "version": "3.10.12"
  },
  "orig_nbformat": 4
 },
 "nbformat": 4,
 "nbformat_minor": 2
}
